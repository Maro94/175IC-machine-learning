{
  "nbformat": 4,
  "nbformat_minor": 0,
  "metadata": {
    "colab": {
      "name": "lab3",
      "provenance": [],
      "collapsed_sections": [],
      "authorship_tag": "ABX9TyNK0zdk9J0FoQeAqvUmzICH",
      "include_colab_link": true
    },
    "kernelspec": {
      "name": "python3",
      "display_name": "Python 3"
    }
  },
  "cells": [
    {
      "cell_type": "markdown",
      "metadata": {
        "id": "view-in-github",
        "colab_type": "text"
      },
      "source": [
        "<a href=\"https://colab.research.google.com/github/Maro94/175IC-machine-learning/blob/main/lab33.ipynb\" target=\"_parent\"><img src=\"https://colab.research.google.com/assets/colab-badge.svg\" alt=\"Open In Colab\"/></a>"
      ]
    },
    {
      "cell_type": "code",
      "metadata": {
        "colab": {
          "base_uri": "https://localhost:8080/",
          "height": 312
        },
        "id": "drhutIldmIaA",
        "outputId": "7304b243-c5f4-4301-eea7-84d3903dc799"
      },
      "source": [
        "from   sklearn import preprocessing\r\n",
        "import numpy as np\r\n",
        "import pandas as pd\r\n",
        "import matplotlib.pyplot as plt\r\n",
        "import seaborn as sns\r\n",
        "from sklearn.model_selection import train_test_split\r\n",
        "\r\n",
        "\r\n",
        "np.random.seed(42)\r\n",
        "df_raw=pd.read_csv('https://storage.googleapis.com/esmartdata-courses-files/ml-course/insurance.csv')\r\n",
        "df_raw.head()\r\n",
        "\r\n",
        "df=df_raw.copy()\r\n",
        "df.info()\r\n",
        "#usuwanie duplikatow\r\n",
        "df[df.duplicated()]\r\n"
      ],
      "execution_count": 2,
      "outputs": [
        {
          "output_type": "stream",
          "text": [
            "<class 'pandas.core.frame.DataFrame'>\n",
            "RangeIndex: 1338 entries, 0 to 1337\n",
            "Data columns (total 7 columns):\n",
            " #   Column    Non-Null Count  Dtype  \n",
            "---  ------    --------------  -----  \n",
            " 0   age       1338 non-null   int64  \n",
            " 1   sex       1338 non-null   object \n",
            " 2   bmi       1338 non-null   float64\n",
            " 3   children  1338 non-null   int64  \n",
            " 4   smoker    1338 non-null   object \n",
            " 5   region    1338 non-null   object \n",
            " 6   charges   1338 non-null   float64\n",
            "dtypes: float64(2), int64(2), object(3)\n",
            "memory usage: 73.3+ KB\n"
          ],
          "name": "stdout"
        },
        {
          "output_type": "execute_result",
          "data": {
            "text/html": [
              "<div>\n",
              "<style scoped>\n",
              "    .dataframe tbody tr th:only-of-type {\n",
              "        vertical-align: middle;\n",
              "    }\n",
              "\n",
              "    .dataframe tbody tr th {\n",
              "        vertical-align: top;\n",
              "    }\n",
              "\n",
              "    .dataframe thead th {\n",
              "        text-align: right;\n",
              "    }\n",
              "</style>\n",
              "<table border=\"1\" class=\"dataframe\">\n",
              "  <thead>\n",
              "    <tr style=\"text-align: right;\">\n",
              "      <th></th>\n",
              "      <th>age</th>\n",
              "      <th>sex</th>\n",
              "      <th>bmi</th>\n",
              "      <th>children</th>\n",
              "      <th>smoker</th>\n",
              "      <th>region</th>\n",
              "      <th>charges</th>\n",
              "    </tr>\n",
              "  </thead>\n",
              "  <tbody>\n",
              "    <tr>\n",
              "      <th>581</th>\n",
              "      <td>19</td>\n",
              "      <td>male</td>\n",
              "      <td>30.59</td>\n",
              "      <td>0</td>\n",
              "      <td>no</td>\n",
              "      <td>northwest</td>\n",
              "      <td>1639.5631</td>\n",
              "    </tr>\n",
              "  </tbody>\n",
              "</table>\n",
              "</div>"
            ],
            "text/plain": [
              "     age   sex    bmi  children smoker     region    charges\n",
              "581   19  male  30.59         0     no  northwest  1639.5631"
            ]
          },
          "metadata": {
            "tags": []
          },
          "execution_count": 2
        }
      ]
    },
    {
      "cell_type": "code",
      "metadata": {
        "colab": {
          "base_uri": "https://localhost:8080/",
          "height": 298
        },
        "id": "XPJijWFnnB3J",
        "outputId": "148e275b-b82a-481f-cd77-4ab3789f39dc"
      },
      "source": [
        "df.sex.value_counts()\r\n",
        "df.sex.value_counts().plot(kind='pie')\r\n",
        "df.smoker.value_counts()"
      ],
      "execution_count": 3,
      "outputs": [
        {
          "output_type": "execute_result",
          "data": {
            "text/plain": [
              "no     1064\n",
              "yes     274\n",
              "Name: smoker, dtype: int64"
            ]
          },
          "metadata": {
            "tags": []
          },
          "execution_count": 3
        },
        {
          "output_type": "display_data",
          "data": {
            "image/png": "[encoded data removed]",
            "text/plain": [
              "<Figure size 432x288 with 1 Axes>"
            ]
          },
          "metadata": {
            "tags": []
          }
        }
      ]
    },
    {
      "cell_type": "code",
      "metadata": {
        "colab": {
          "base_uri": "https://localhost:8080/",
          "height": 648
        },
        "id": "3XWBF2ponIvo",
        "outputId": "aed441aa-8475-4367-d48d-e36d476d4258"
      },
      "source": [
        "import plotly.express as px\r\n",
        "df.sex.value_counts()\r\n",
        "df.sex.value_counts().plot(kind='pie')\r\n",
        "df.smoker.value_counts()\r\n",
        "df.charges.plot(kind='hist',bins=30)\r\n",
        "px.histogram(df, x='charges', width=700, height=400, nbins=50, facet_col='smoker', facet_row='sex')\r\n"
      ],
      "execution_count": 4,
      "outputs": [
        {
          "output_type": "display_data",
          "data": {
            "text/html": [
              "<html>\n",
              "<head><meta charset=\"utf-8\" /></head>\n",
              "<body>\n",
              "    <div>\n",
              "            <script src=\"https://cdnjs.cloudflare.com/ajax/libs/mathjax/2.7.5/MathJax.js?config=TeX-AMS-MML_SVG\"></script><script type=\"text/javascript\">if (window.MathJax) {MathJax.Hub.Config({SVG: {font: \"STIX-Web\"}});}</script>\n",
              "                <script type=\"text/javascript\">window.PlotlyConfig = {MathJaxConfig: 'local'};</script>\n",
              "        <script src=\"https://cdn.plot.ly/plotly-latest.min.js\"></script>    \n",
              "            <div id=\"0bf9883a-97c4-4632-ac36-dd6663bc3399\" class=\"plotly-graph-div\" style=\"height:400px; width:700px;\"></div>\n",
              "            <script type=\"text/javascript\">\n",
              "                \n",
              "                    window.PLOTLYENV=window.PLOTLYENV || {};\n",
              "                    \n",
              "                if (document.getElementById(\"0bf9883a-97c4-4632-ac36-dd6663bc3399\")) {\n",
              "                    Plotly.newPlot(\n",
              "                        '0bf9883a-97c4-4632-ac36-dd6663bc3399',\n",
              "                        [{\"alignmentgroup\": \"True\", \"bingroup\": \"x\", \"hoverlabel\": {\"namelength\": 0}, \"hovertemplate\": \"sex=female<br>smoker=yes<br>charges=%{x}<br>count=%{y}\", \"legendgroup\": \"\", \"marker\": {\"color\": \"#636efa\"}, \"name\": \"\", \"nbinsx\": 50, \"offsetgroup\": \"\", \"orientation\": \"v\", \"showlegend\": false, \"type\": \"histogram\", \"x\": [16884.924, 27808.7251, 37701.8768, 23244.7902, 14711.7438, 16577.7795, 39836.519, 43578.9394, 47291.055, 30942.1918, 19107.7796, 17081.08, 32734.1863, 19964.7463, 21348.706000000002, 36149.4835, 48824.45, 37133.8982, 19444.2658, 38511.6283, 29523.1656, 47305.305, 17085.2676, 22331.5668, 47896.79135, 24873.3849, 34838.873, 47928.03, 48517.56315, 13844.506000000001, 18033.9679, 21659.9301, 15006.57945, 19594.80965, 14455.64405, 18608.262, 28950.4692, 37079.372, 19521.9682, 48885.135610000005, 63770.42801, 45863.205, 39983.42595, 58571.074479999996, 43943.8761, 15359.1045, 17468.9839, 25678.77845, 42969.8527, 34439.8559, 42983.4585, 24667.418999999998, 27037.9141, 40003.33225, 46200.9851, 44400.4064, 40932.4295, 16657.71745, 40419.0191, 19539.243000000002, 23065.4207, 17748.5062, 24520.264, 38792.6856, 23401.30575, 55135.402089999996, 36021.0112, 27533.9129, 45008.9555, 37270.1512, 42111.6647, 24106.91255, 40974.1649, 46113.511, 46255.1125, 29330.98315, 19798.05455, 17496.306, 21774.32215, 14571.8908, 16420.49455, 35595.5898, 21677.28345, 44423.803, 39725.51805, 20234.85475, 21880.82, 19023.26, 33907.547999999995, 44641.1974, 16776.30405, 24180.9335, 34166.273, 46661.4424, 40904.1995, 36898.73308, 40941.2854, 22478.6, 23887.6627, 18328.2381, 21771.3423, 33307.5508, 18223.4512, 20296.86345, 41661.602, 26125.674769999998, 20167.336030000002, 24535.69855, 14283.4594, 16115.3045, 33900.653, 36397.576, 18765.87545, 43896.3763, 29141.3603], \"xaxis\": \"x3\", \"yaxis\": \"y3\"}, {\"alignmentgroup\": \"True\", \"bingroup\": \"x\", \"hoverlabel\": {\"namelength\": 0}, \"hovertemplate\": \"sex=female<br>smoker=no<br>charges=%{x}<br>count=%{y}\", \"legendgroup\": \"\", \"marker\": {\"color\": \"#636efa\"}, \"name\": \"\", \"nbinsx\": 50, \"offsetgroup\": \"\", \"orientation\": \"v\", \"showlegend\": false, \"type\": \"histogram\", \"x\": [3756.6216, 8240.5896, 7281.5056, 28923.136919999997, 11090.7178, 10797.3362, 13228.84695, 4149.736, 14001.1338, 14451.83515, 12268.63225, 2198.18985, 4687.7970000000005, 15612.19335, 3046.062, 4949.7587, 6313.759, 3393.35635, 3556.9223, 12629.8967, 2211.13075, 3579.8287, 8059.6791, 13607.36875, 5989.52365, 4133.64165, 1743.214, 14235.072, 5920.1041, 11741.726, 3947.4131, 2755.02095, 6571.02435, 7935.29115, 11033.6617, 11073.176000000001, 8026.6666, 11082.5772, 2026.9741, 10942.13205, 3766.8838, 12105.32, 6186.1269999999995, 21344.8467, 5003.853, 2331.519, 11881.358, 2404.7338, 8601.3293, 6686.4313, 2257.47525, 10115.00885, 3385.39915, 9634.538, 12815.44495, 13616.3586, 11163.568000000001, 2457.21115, 2155.6815, 27322.733860000004, 2166.732, 5138.2567, 9877.6077, 10959.6947, 6334.34355, 7077.1894, 19749.383380000003, 5152.134, 4830.63, 6128.79745, 2719.27975, 5246.047, 2855.43755, 8823.279, 8538.28845, 1631.8212, 7419.4779, 3981.9768, 5325.651, 6775.960999999999, 4922.9159, 4883.866, 12044.341999999999, 5649.715, 8516.829, 9644.2525, 14901.5167, 2130.6759, 8871.1517, 13012.20865, 4337.7352, 13880.948999999999, 5002.7827, 8520.026, 7371.772, 10355.641, 3392.9768, 25081.76784, 5012.471, 10564.8845, 24227.33724, 7358.17565, 7443.64305, 14001.2867, 1727.785, 1615.7667, 5354.07465, 35160.13457, 12648.7034, 13047.33235, 5400.9805, 11837.16, 20462.99766, 14590.63205, 9715.841, 2150.469, 9855.1314, 11879.10405, 9625.92, 9432.9253, 14256.1928, 3172.018, 2156.7518, 9249.4952, 12265.5069, 4349.462, 12646.207, 20177.671130000002, 4151.0287, 7749.1564, 1737.376, 7421.19455, 24671.66334, 3561.8889, 13429.0354, 11658.37915, 19144.57652, 8232.6388, 18955.22017, 13217.0945, 10977.2063, 6184.2994, 5478.0368, 11830.6072, 8932.084, 3554.203, 14133.03775, 1607.5101, 10043.249, 2597.779, 3180.5101, 9778.3472, 13430.265, 8017.06115, 13415.0381, 12029.2867, 7639.41745, 16455.70785, 5846.9176, 11856.4115, 3176.8159, 4618.0799, 2138.0707, 9411.005, 8522.003, 1631.6683, 9264.796999999999, 14692.66935, 11396.9002, 4185.0979, 8539.671, 2134.9015, 7345.7266, 6555.07035, 7323.734818999999, 3167.45585, 18804.7524, 4906.40965, 12638.195, 12592.5345, 4738.2682, 28287.897660000002, 7345.084, 11454.0215, 5910.944, 11881.9696, 11840.77505, 7682.67, 10381.4787, 15230.32405, 13224.693000000001, 12643.3778, 23288.9284, 2201.0971, 2203.47185, 1744.465, 20878.78443, 1622.1885, 9880.068000000001, 4347.02335, 12475.3513, 1748.774, 24513.09126, 2196.4732, 4931.647, 8211.1002, 13470.86, 5974.3847, 3044.2133, 11455.28, 5240.765, 25656.575259999998, 3994.1778, 9866.30485, 5397.6167, 11482.63485, 24059.68019, 9861.025, 14043.4767, 5972.378000000001, 8825.086, 8233.0975, 6196.448, 3056.3881, 13887.204, 11538.421, 3213.62205, 3972.9247, 11187.6567, 17878.900680000002, 9193.8385, 10923.9332, 2801.2588, 2128.43105, 6373.55735, 11552.903999999999, 3761.292, 2219.4451, 4753.6368, 31620.001060000002, 13224.05705, 12222.8983, 3206.49135, 17626.23951, 4779.6023, 13635.6379, 5976.8311, 11842.442, 8823.98575, 7640.3092, 5594.8455, 33471.97189, 1633.0444, 11070.535, 16085.1275, 9283.562, 3558.62025, 8547.6913, 6571.544, 2207.69745, 6753.0380000000005, 1880.07, 11658.11505, 10713.643999999998, 9182.17, 3736.4647, 3366.6697, 2709.1119, 24915.04626, 4466.6214, 8252.2843, 12430.95335, 9800.8882, 10579.711000000001, 8280.6227, 8527.532, 12244.531, 3410.324, 26392.260290000002, 14394.39815, 22192.43711, 5148.5526, 6500.2359, 3943.5954, 6185.3208, 12485.8009, 10156.7832, 2585.269, 4766.022, 26236.57997, 3577.9990000000003, 3201.24515, 29186.48236, 3500.6123, 2020.5523, 9541.69555, 5385.3379, 8930.93455, 5375.0380000000005, 6113.23105, 5469.0066, 10107.2206, 8310.83915, 2457.502, 9566.9909, 10848.1343, 12231.6136, 9875.6804, 10106.13425, 2217.6012, 6781.3542, 4234.927, 9447.25035, 14007.222, 9583.8933, 3757.8448, 9910.35985, 8556.907, 11833.7823, 7985.815, 3925.7582, 9095.06825, 11842.62375, 7050.642, 14319.031, 6933.24225, 11150.78, 12797.20962, 4350.5144, 6414.178000000001, 13457.9608, 5662.225, 2731.9122, 7209.4918, 4719.52405, 11848.141000000001, 7046.7222, 14313.8463, 7731.85785, 28476.734989999997, 2136.88225, 9414.92, 6360.9936, 1877.9294, 2842.76075, 1621.8827, 8219.2039, 16069.08475, 5266.3656, 4719.73655, 11657.7189, 6402.29135, 12622.1795, 9872.701, 2974.1259999999997, 11729.6795, 1875.344, 18218.16139, 7151.092, 12269.68865, 5458.04645, 4391.652, 3392.3652, 2690.1138, 26140.3603, 6311.951999999999, 2585.85065, 5272.1758, 7243.8136, 13063.883, 1634.5734, 2117.33885, 12644.589, 4564.19145, 7633.7206, 14382.70905, 7626.993, 2473.3341, 13041.921, 5245.2269, 13451.122, 13462.52, 2913.5690000000004, 12032.326000000001, 13470.8044, 6238.298000000001, 7348.142, 12233.828000000001, 8965.79575, 9549.5651, 2217.46915, 11674.13, 4527.18295, 2730.10785, 3353.284, 14474.675, 8596.8278, 10702.6424, 4992.3764, 2527.81865, 1759.338, 9704.66805, 4889.0368, 16796.41194, 7624.63, 28340.18885, 3378.91, 7144.86265, 10118.424, 7986.47525, 7418.522, 13887.9685, 6551.7501, 5267.81815, 8269.044, 36580.28216, 5383.536, 2709.24395, 3987.926, 12495.29085, 26018.95052, 8569.8618, 2020.1770000000001, 6877.9801, 4137.5227, 12094.478000000001, 3161.454, 7325.0482, 3594.17085, 8023.13545, 3353.4703, 8277.523000000001, 17929.303369999998, 2480.9791, 5708.866999999999, 7045.499, 10928.848999999998, 12096.6512, 13204.28565, 4562.8421, 8551.347, 15019.76005, 11286.5387, 11299.343, 4561.1885, 23045.56616, 3227.1211, 10338.9316, 8988.15875, 10493.9458, 11512.405, 5312.16985, 5693.4305, 18903.49141, 14254.6082, 5836.5204, 1728.8970000000002, 8582.3023, 9991.03765, 11085.5868, 7623.518, 3176.2877, 7954.517, 27117.99378, 2261.5688, 2203.73595, 12235.8392, 5630.45785, 11015.1747, 7228.21565, 14426.07385, 2459.7201, 3989.841, 7727.2532, 2200.83085, 7153.5539, 5227.98875, 4529.477, 6112.35295, 11093.6229, 2154.361, 6496.8859999999995, 2899.48935, 7650.77375, 2850.68375, 2632.992, 9447.3824, 13844.7972, 13126.67745, 5327.40025, 13725.47184, 13019.16105, 8671.19125, 4134.08245, 18838.70366, 4934.705, 36910.60803, 10806.839, 3956.07145, 7537.1639, 4718.20355, 4795.6568, 12479.70895, 8515.7587, 14449.8544, 12224.35085, 3238.4357, 4296.2712, 3171.6149, 9101.798, 1633.9618, 15828.821730000001, 4415.1588, 6474.013000000001, 11436.73815, 11305.93455, 10197.7722, 4544.2348, 6770.1925, 7337.7480000000005, 10370.91255, 10704.47, 1880.487, 3021.80915, 2741.948, 4357.04365, 4189.1131, 8283.6807, 8534.6718, 3732.6251, 5472.4490000000005, 7133.9025, 4340.4409, 2710.82855, 3208.7870000000003, 2464.6188, 4571.41305, 1731.6770000000001, 7201.70085, 7050.0213, 22395.74424, 12629.1656, 10795.937329999999, 11411.685, 2205.9808, 1629.8335, 2007.945], \"xaxis\": \"x4\", \"yaxis\": \"y4\"}, {\"alignmentgroup\": \"True\", \"bingroup\": \"x\", \"hoverlabel\": {\"namelength\": 0}, \"hovertemplate\": \"sex=male<br>smoker=yes<br>charges=%{x}<br>count=%{y}\", \"legendgroup\": \"\", \"marker\": {\"color\": \"#636efa\"}, \"name\": \"\", \"nbinsx\": 50, \"offsetgroup\": \"\", \"orientation\": \"v\", \"showlegend\": false, \"type\": \"histogram\", \"x\": [39611.7577, 36837.467000000004, 38711.0, 35585.576, 51194.55914, 39774.2763, 48173.361, 38709.176, 23568.272, 37742.5757, 47496.49445, 34303.1672, 17663.1442, 37165.1638, 21098.55405, 30184.9367, 22412.6485, 15820.698999999999, 17560.37975, 47055.5321, 39556.4945, 18972.495, 20745.9891, 40720.55105, 21223.6758, 15518.18025, 36950.2567, 43753.33705, 20984.0936, 34779.615, 19515.5416, 17352.6803, 12829.4551, 44260.7499, 41097.16175, 43921.1837, 33750.2918, 24869.8368, 36219.40545, 46151.1245, 17179.522, 42856.837999999996, 48549.17835, 42112.2356, 16297.846000000001, 21978.6769, 38746.3551, 42124.5153, 35491.64, 42760.5022, 24393.6224, 41919.097, 36085.219, 38126.2465, 42303.69215, 46889.2612, 46599.1084, 39125.33225, 26109.32905, 22144.032000000003, 25382.297000000002, 28868.6639, 35147.52848, 17942.106, 36197.699, 22218.1149, 32548.3405, 21082.16, 38245.59327, 48675.5177, 23807.2406, 45702.02235, 39241.442, 23306.547000000002, 40182.246, 34617.84065, 20149.3229, 32787.458589999995, 42560.4304, 45710.20785, 46130.5265, 40103.89, 34806.4677, 40273.6455, 19361.9988, 36189.1017, 44585.45587, 18246.4955, 43254.41795, 36307.7983, 19040.876, 18259.216, 21195.818, 18310.742, 17904.52705, 43813.8661, 20773.62775, 39597.4072, 15817.9857, 19719.6947, 27218.43725, 44202.6536, 48673.5588, 33732.6867, 35069.37452, 39047.285, 19933.458, 47462.894, 38998.546, 20009.63365, 41999.52, 41034.2214, 23967.38305, 16138.76205, 19199.944, 17361.7661, 34472.841, 24915.22085, 18767.7377, 42211.1382, 16450.8947, 13747.87235, 37484.4493, 33475.81715, 44501.3982, 39727.614, 25309.488999999998, 48970.2476, 39871.7043, 34672.1472, 41676.0811, 41949.2441, 36124.5737, 38282.7495, 52590.82939, 39722.7462, 17178.6824, 19350.3689, 37465.34375, 38415.474, 60021.39897, 47269.85400000001, 49577.6624, 37607.5277, 18648.4217, 16232.847, 26926.5144, 34254.05335, 17043.3414, 22462.04375, 47403.88, 38344.566, 34828.654, 62592.87309, 46718.16325, 37829.7242, 21259.37795, 21472.4788, 28101.33305], \"xaxis\": \"x\", \"yaxis\": \"y\"}, {\"alignmentgroup\": \"True\", \"bingroup\": \"x\", \"hoverlabel\": {\"namelength\": 0}, \"hovertemplate\": \"sex=male<br>smoker=no<br>charges=%{x}<br>count=%{y}\", \"legendgroup\": \"\", \"marker\": {\"color\": \"#636efa\"}, \"name\": \"\", \"nbinsx\": 50, \"offsetgroup\": \"\", \"orientation\": \"v\", \"showlegend\": false, \"type\": \"histogram\", \"x\": [1725.5523, 4449.462, 21984.47061, 3866.8552, 6406.4107, 2721.3208, 1826.8429999999998, 1837.237, 2395.17155, 10602.385, 1137.011, 6203.90175, 2775.19215, 13770.0979, 1625.43375, 2302.3, 6272.4772, 6079.6715, 20630.28351, 8606.2174, 4504.6624, 30166.618169999998, 6389.37785, 6799.4580000000005, 11946.6259, 7726.854, 11356.6609, 1532.4697, 4441.21315, 5729.0053, 10226.2842, 3645.0894, 3877.30425, 2867.1196, 10825.2537, 4646.759, 11488.31695, 30259.995560000003, 11381.3254, 7740.3369999999995, 1705.6245, 6082.405, 1632.56445, 1261.442, 2045.68525, 27375.90478, 3490.5491, 18157.876, 1842.519, 5125.2157, 7789.635, 6948.7008, 10450.552, 5028.1466, 10407.08585, 4827.90495, 13405.3903, 8116.68, 1694.7964, 6455.86265, 10436.096, 11735.87905, 4005.4225, 7731.4271, 12557.6053, 2137.6536, 1137.4697, 1639.5631, 7147.105, 11743.298999999999, 6610.1097, 1980.07, 8162.71625, 3537.703, 2483.736, 5253.524, 11987.1682, 2689.4954, 9225.2564, 12333.828000000001, 6710.1919, 4463.2051, 7152.6714, 7196.866999999999, 24476.47851, 1986.9334, 1832.094, 4040.55825, 4260.744000000001, 11520.09985, 7441.053000000001, 9282.4806, 1719.4363, 7265.7025, 9617.66245, 2523.1695, 2803.69785, 12928.7911, 4237.12655, 7742.1098, 25992.82104, 20277.80751, 3906.127, 1704.5681, 6746.7425, 19442.3535, 11944.59435, 8444.474, 8124.4084, 9722.7695, 8835.26495, 10435.06525, 4667.60765, 4894.7533, 11566.30055, 2866.091, 6600.20595, 9144.565, 13822.803, 12142.5786, 13937.6665, 13352.0998, 13981.85035, 4889.9995, 8334.45755, 1635.73365, 12404.8791, 24603.04837, 8944.1151, 9620.3307, 1837.2819, 4751.07, 8116.26885, 3481.868, 1391.5287, 27000.98473, 20781.48892, 8302.53565, 1261.859, 30284.642939999998, 10736.87075, 8964.06055, 9290.1395, 7526.70645, 16586.49771, 14988.431999999999, 8083.9198, 10269.46, 3260.199, 6652.5288, 4074.4537, 1621.3402, 5080.096, 9140.951, 14418.2804, 2727.3951, 8968.33, 9788.8659, 23082.95533, 5969.723000000001, 4243.59005, 13919.8229, 2254.7967, 5926.846, 2897.3235, 1149.3959, 12730.9996, 4762.329000000001, 7512.267, 4032.2407, 1969.614, 1769.53165, 4686.3887, 21797.0004, 10601.412, 11165.41765, 1632.03625, 2497.0383, 2534.39375, 1534.3045, 1824.2854, 15555.18875, 9304.7019, 9563.029, 1253.9360000000001, 10461.9794, 12574.048999999999, 1967.0227, 8027.968000000001, 6837.3687, 6796.86325, 2643.2685, 3077.0955, 11763.0009, 2498.4144, 9361.3268, 1256.299, 11362.755, 27724.28875, 8413.46305, 3857.75925, 8342.90875, 1708.0014, 12925.886, 19214.705530000003, 13831.1152, 6067.12675, 27346.04207, 10231.4999, 3268.84665, 13390.559, 12957.118, 3847.6740000000004, 8334.5896, 3935.1799, 1646.4297, 2494.022, 9058.7303, 7256.7231, 1664.9996, 9724.53, 12913.9924, 1639.5631, 6356.2707, 1242.816, 3861.20965, 8428.0693, 2566.4707, 5709.1644, 7441.501, 9174.13565, 4435.0942, 3659.3459999999995, 12129.61415, 6748.5912, 11326.71487, 11365.952, 10085.846, 1977.815, 7173.35995, 9391.346, 14410.9321, 12949.1554, 6666.243, 13143.86485, 18806.14547, 10141.1362, 6123.5688, 1712.227, 4058.71245, 6435.6237, 1136.3994, 8703.456, 4837.5823, 4399.731, 7222.78625, 12363.546999999999, 1242.26, 9863.4718, 11244.3769, 7729.64575, 5438.7491, 2104.1134, 8068.185, 2362.22905, 2352.96845, 10976.24575, 9504.3103, 10264.4421, 1727.54, 1984.4533, 12146.971000000001, 13112.6048, 11264.541000000001, 12979.358, 1263.249, 6664.68595, 10065.413, 3484.3309999999997, 8604.48365, 8827.2099, 11737.84884, 1627.28245, 3062.50825, 1906.35825, 14210.53595, 17128.42608, 5031.26955, 5428.7277, 2416.955, 3070.8087, 8062.764, 27941.28758, 7261.741, 10560.4917, 6986.696999999999, 7448.40395, 5934.3798, 9869.8102, 1146.7966, 9386.1613, 12741.16745, 1917.3184, 5209.57885, 1252.407, 4266.1658, 2103.08, 1815.8759, 1131.5066, 3309.7926, 11013.7119, 4428.88785, 5584.3057, 3597.5959999999995, 7445.918000000001, 2680.9493, 12523.6048, 6117.4945, 13393.756000000001, 11743.9341, 5377.4578, 7160.3303, 4402.233, 1526.3120000000001, 12323.936000000002, 10072.05505, 2438.0552, 10601.63225, 14119.62, 10965.446000000002, 8782.469000000001, 6600.361, 1141.4451, 11576.13, 13129.60345, 8457.818000000001, 5966.8874, 6849.026, 8891.1395, 6653.7886, 6282.235, 3443.0640000000003, 2789.0574, 4877.98105, 1682.5970000000002, 11945.1327, 10422.91665, 13555.0049, 2221.56445, 8688.85885, 4661.28635, 8125.7845, 4846.92015, 15170.069, 2639.0429, 5257.50795, 5488.262, 4320.41085, 6250.435, 25333.33284, 6289.7549, 2927.0647, 10096.97, 4673.3922, 32108.662819999998, 2304.0022, 9487.6442, 1121.8739, 1628.4709, 12982.8747, 7160.094, 6358.77645, 11534.87265, 3875.7341, 12609.88702, 28468.91901, 9500.57305, 26467.09737, 4746.344, 7518.02535, 3279.86855, 2322.6218, 7804.1605, 2902.9065, 25517.11363, 4500.33925, 4915.05985, 8410.04685, 4518.82625, 5484.4673, 1972.95, 21232.182259999998, 8627.5411, 4433.3877, 4438.2634, 23241.47453, 9957.7216, 8765.249, 12124.9924, 8798.593, 1711.0268, 21595.38229, 9850.431999999999, 12950.0712, 2250.8352, 22493.65964, 1704.70015, 11394.06555, 14394.5579, 9288.0267, 10594.50155, 4462.7218, 1981.5819, 11554.2236, 6548.19505, 8978.1851, 5757.41345, 14349.8544, 13974.45555, 1909.52745, 2102.2647, 15161.5344, 11884.04858, 4454.40265, 5855.9025, 4076.4970000000003, 10796.35025, 11353.2276, 9748.9106, 10577.087, 3591.48, 1674.6323, 11253.421, 3471.4096, 11363.2832, 20420.60465, 2904.0879999999997, 8605.3615, 2396.0959, 10807.4863, 9222.4026, 8347.1643, 10214.636, 14358.36437, 3693.428, 20709.02034, 19673.335730000003, 3704.3545, 9048.0273, 6338.0756, 9630.396999999999, 11289.10925, 10791.96, 5979.731, 5124.1887, 18963.171919999997, 10982.5013, 4670.64, 6457.8434, 4433.9159, 8603.8234, 5699.8375, 6393.60345, 6198.7518, 8733.22925, 2055.3249, 9964.06, 5116.5004, 12347.171999999999, 5373.36425, 23563.016180000002, 1702.4553, 12890.05765, 5415.6612, 4058.1161, 6593.5083, 8442.667, 6858.4796, 6640.54485, 7162.0122, 10594.2257, 11938.25595, 11345.518999999998, 2699.56835, 6985.50695, 1135.9407, 5615.369000000001, 6059.173000000001, 1241.565, 30063.58055, 3277.1609999999996, 8615.3, 3292.52985, 14478.33015, 4747.0529, 10959.33, 1720.3537, 7147.4728, 1515.3449, 9301.89355, 11931.12525, 1964.78, 1708.92575, 5261.46945, 6875.960999999999, 6940.90985, 4536.259, 11272.331390000001, 1163.4627, 19496.71917, 5425.02335, 12981.3457, 4239.89265, 13143.33665, 9377.9047, 10325.206, 10600.5483], \"xaxis\": \"x2\", \"yaxis\": \"y2\"}],\n",
              "                        {\"annotations\": [{\"font\": {}, \"showarrow\": false, \"text\": \"smoker=yes\", \"x\": 0.24, \"xanchor\": \"center\", \"xref\": \"paper\", \"y\": 1.0, \"yanchor\": \"bottom\", \"yref\": \"paper\"}, {\"font\": {}, \"showarrow\": false, \"text\": \"smoker=no\", \"x\": 0.74, \"xanchor\": \"center\", \"xref\": \"paper\", \"y\": 1.0, \"yanchor\": \"bottom\", \"yref\": \"paper\"}, {\"font\": {}, \"showarrow\": false, \"text\": \"sex=male\", \"textangle\": 90, \"x\": 0.98, \"xanchor\": \"left\", \"xref\": \"paper\", \"y\": 0.2425, \"yanchor\": \"middle\", \"yref\": \"paper\"}, {\"font\": {}, \"showarrow\": false, \"text\": \"sex=female\", \"textangle\": 90, \"x\": 0.98, \"xanchor\": \"left\", \"xref\": \"paper\", \"y\": 0.7575000000000001, \"yanchor\": \"middle\", \"yref\": \"paper\"}], \"barmode\": \"relative\", \"height\": 400, \"legend\": {\"tracegroupgap\": 0}, \"margin\": {\"t\": 60}, \"template\": {\"data\": {\"bar\": [{\"error_x\": {\"color\": \"#2a3f5f\"}, \"error_y\": {\"color\": \"#2a3f5f\"}, \"marker\": {\"line\": {\"color\": \"#E5ECF6\", \"width\": 0.5}}, \"type\": \"bar\"}], \"barpolar\": [{\"marker\": {\"line\": {\"color\": \"#E5ECF6\", \"width\": 0.5}}, \"type\": \"barpolar\"}], \"carpet\": [{\"aaxis\": {\"endlinecolor\": \"#2a3f5f\", \"gridcolor\": \"white\", \"linecolor\": \"white\", \"minorgridcolor\": \"white\", \"startlinecolor\": \"#2a3f5f\"}, \"baxis\": {\"endlinecolor\": \"#2a3f5f\", \"gridcolor\": \"white\", \"linecolor\": \"white\", \"minorgridcolor\": \"white\", \"startlinecolor\": \"#2a3f5f\"}, \"type\": \"carpet\"}], \"choropleth\": [{\"colorbar\": {\"outlinewidth\": 0, \"ticks\": \"\"}, \"type\": \"choropleth\"}], \"contour\": [{\"colorbar\": {\"outlinewidth\": 0, \"ticks\": \"\"}, \"colorscale\": [[0.0, \"#0d0887\"], [0.1111111111111111, \"#46039f\"], [0.2222222222222222, \"#7201a8\"], [0.3333333333333333, \"#9c179e\"], [0.4444444444444444, \"#bd3786\"], [0.5555555555555556, \"#d8576b\"], [0.6666666666666666, \"#ed7953\"], [0.7777777777777778, \"#fb9f3a\"], [0.8888888888888888, \"#fdca26\"], [1.0, \"#f0f921\"]], \"type\": \"contour\"}], \"contourcarpet\": [{\"colorbar\": {\"outlinewidth\": 0, \"ticks\": \"\"}, \"type\": \"contourcarpet\"}], \"heatmap\": [{\"colorbar\": {\"outlinewidth\": 0, \"ticks\": \"\"}, \"colorscale\": [[0.0, \"#0d0887\"], [0.1111111111111111, \"#46039f\"], [0.2222222222222222, \"#7201a8\"], [0.3333333333333333, \"#9c179e\"], [0.4444444444444444, \"#bd3786\"], [0.5555555555555556, \"#d8576b\"], [0.6666666666666666, \"#ed7953\"], [0.7777777777777778, \"#fb9f3a\"], [0.8888888888888888, \"#fdca26\"], [1.0, \"#f0f921\"]], \"type\": \"heatmap\"}], \"heatmapgl\": [{\"colorbar\": {\"outlinewidth\": 0, \"ticks\": \"\"}, \"colorscale\": [[0.0, \"#0d0887\"], [0.1111111111111111, \"#46039f\"], [0.2222222222222222, \"#7201a8\"], [0.3333333333333333, \"#9c179e\"], [0.4444444444444444, \"#bd3786\"], [0.5555555555555556, \"#d8576b\"], [0.6666666666666666, \"#ed7953\"], [0.7777777777777778, \"#fb9f3a\"], [0.8888888888888888, \"#fdca26\"], [1.0, \"#f0f921\"]], \"type\": \"heatmapgl\"}], \"histogram\": [{\"marker\": {\"colorbar\": {\"outlinewidth\": 0, \"ticks\": \"\"}}, \"type\": \"histogram\"}], \"histogram2d\": [{\"colorbar\": {\"outlinewidth\": 0, \"ticks\": \"\"}, \"colorscale\": [[0.0, \"#0d0887\"], [0.1111111111111111, \"#46039f\"], [0.2222222222222222, \"#7201a8\"], [0.3333333333333333, \"#9c179e\"], [0.4444444444444444, \"#bd3786\"], [0.5555555555555556, \"#d8576b\"], [0.6666666666666666, \"#ed7953\"], [0.7777777777777778, \"#fb9f3a\"], [0.8888888888888888, \"#fdca26\"], [1.0, \"#f0f921\"]], \"type\": \"histogram2d\"}], \"histogram2dcontour\": [{\"colorbar\": {\"outlinewidth\": 0, \"ticks\": \"\"}, \"colorscale\": [[0.0, \"#0d0887\"], [0.1111111111111111, \"#46039f\"], [0.2222222222222222, \"#7201a8\"], [0.3333333333333333, \"#9c179e\"], [0.4444444444444444, \"#bd3786\"], [0.5555555555555556, \"#d8576b\"], [0.6666666666666666, \"#ed7953\"], [0.7777777777777778, \"#fb9f3a\"], [0.8888888888888888, \"#fdca26\"], [1.0, \"#f0f921\"]], \"type\": \"histogram2dcontour\"}], \"mesh3d\": [{\"colorbar\": {\"outlinewidth\": 0, \"ticks\": \"\"}, \"type\": \"mesh3d\"}], \"parcoords\": [{\"line\": {\"colorbar\": {\"outlinewidth\": 0, \"ticks\": \"\"}}, \"type\": \"parcoords\"}], \"pie\": [{\"automargin\": true, \"type\": \"pie\"}], \"scatter\": [{\"marker\": {\"colorbar\": {\"outlinewidth\": 0, \"ticks\": \"\"}}, \"type\": \"scatter\"}], \"scatter3d\": [{\"line\": {\"colorbar\": {\"outlinewidth\": 0, \"ticks\": \"\"}}, \"marker\": {\"colorbar\": {\"outlinewidth\": 0, \"ticks\": \"\"}}, \"type\": \"scatter3d\"}], \"scattercarpet\": [{\"marker\": {\"colorbar\": {\"outlinewidth\": 0, \"ticks\": \"\"}}, \"type\": \"scattercarpet\"}], \"scattergeo\": [{\"marker\": {\"colorbar\": {\"outlinewidth\": 0, \"ticks\": \"\"}}, \"type\": \"scattergeo\"}], \"scattergl\": [{\"marker\": {\"colorbar\": {\"outlinewidth\": 0, \"ticks\": \"\"}}, \"type\": \"scattergl\"}], \"scattermapbox\": [{\"marker\": {\"colorbar\": {\"outlinewidth\": 0, \"ticks\": \"\"}}, \"type\": \"scattermapbox\"}], \"scatterpolar\": [{\"marker\": {\"colorbar\": {\"outlinewidth\": 0, \"ticks\": \"\"}}, \"type\": \"scatterpolar\"}], \"scatterpolargl\": [{\"marker\": {\"colorbar\": {\"outlinewidth\": 0, \"ticks\": \"\"}}, \"type\": \"scatterpolargl\"}], \"scatterternary\": [{\"marker\": {\"colorbar\": {\"outlinewidth\": 0, \"ticks\": \"\"}}, \"type\": \"scatterternary\"}], \"surface\": [{\"colorbar\": {\"outlinewidth\": 0, \"ticks\": \"\"}, \"colorscale\": [[0.0, \"#0d0887\"], [0.1111111111111111, \"#46039f\"], [0.2222222222222222, \"#7201a8\"], [0.3333333333333333, \"#9c179e\"], [0.4444444444444444, \"#bd3786\"], [0.5555555555555556, \"#d8576b\"], [0.6666666666666666, \"#ed7953\"], [0.7777777777777778, \"#fb9f3a\"], [0.8888888888888888, \"#fdca26\"], [1.0, \"#f0f921\"]], \"type\": \"surface\"}], \"table\": [{\"cells\": {\"fill\": {\"color\": \"#EBF0F8\"}, \"line\": {\"color\": \"white\"}}, \"header\": {\"fill\": {\"color\": \"#C8D4E3\"}, \"line\": {\"color\": \"white\"}}, \"type\": \"table\"}]}, \"layout\": {\"annotationdefaults\": {\"arrowcolor\": \"#2a3f5f\", \"arrowhead\": 0, \"arrowwidth\": 1}, \"coloraxis\": {\"colorbar\": {\"outlinewidth\": 0, \"ticks\": \"\"}}, \"colorscale\": {\"diverging\": [[0, \"#8e0152\"], [0.1, \"#c51b7d\"], [0.2, \"#de77ae\"], [0.3, \"#f1b6da\"], [0.4, \"#fde0ef\"], [0.5, \"#f7f7f7\"], [0.6, \"#e6f5d0\"], [0.7, \"#b8e186\"], [0.8, \"#7fbc41\"], [0.9, \"#4d9221\"], [1, \"#276419\"]], \"sequential\": [[0.0, \"#0d0887\"], [0.1111111111111111, \"#46039f\"], [0.2222222222222222, \"#7201a8\"], [0.3333333333333333, \"#9c179e\"], [0.4444444444444444, \"#bd3786\"], [0.5555555555555556, \"#d8576b\"], [0.6666666666666666, \"#ed7953\"], [0.7777777777777778, \"#fb9f3a\"], [0.8888888888888888, \"#fdca26\"], [1.0, \"#f0f921\"]], \"sequentialminus\": [[0.0, \"#0d0887\"], [0.1111111111111111, \"#46039f\"], [0.2222222222222222, \"#7201a8\"], [0.3333333333333333, \"#9c179e\"], [0.4444444444444444, \"#bd3786\"], [0.5555555555555556, \"#d8576b\"], [0.6666666666666666, \"#ed7953\"], [0.7777777777777778, \"#fb9f3a\"], [0.8888888888888888, \"#fdca26\"], [1.0, \"#f0f921\"]]}, \"colorway\": [\"#636efa\", \"#EF553B\", \"#00cc96\", \"#ab63fa\", \"#FFA15A\", \"#19d3f3\", \"#FF6692\", \"#B6E880\", \"#FF97FF\", \"#FECB52\"], \"font\": {\"color\": \"#2a3f5f\"}, \"geo\": {\"bgcolor\": \"white\", \"lakecolor\": \"white\", \"landcolor\": \"#E5ECF6\", \"showlakes\": true, \"showland\": true, \"subunitcolor\": \"white\"}, \"hoverlabel\": {\"align\": \"left\"}, \"hovermode\": \"closest\", \"mapbox\": {\"style\": \"light\"}, \"paper_bgcolor\": \"white\", \"plot_bgcolor\": \"#E5ECF6\", \"polar\": {\"angularaxis\": {\"gridcolor\": \"white\", \"linecolor\": \"white\", \"ticks\": \"\"}, \"bgcolor\": \"#E5ECF6\", \"radialaxis\": {\"gridcolor\": \"white\", \"linecolor\": \"white\", \"ticks\": \"\"}}, \"scene\": {\"xaxis\": {\"backgroundcolor\": \"#E5ECF6\", \"gridcolor\": \"white\", \"gridwidth\": 2, \"linecolor\": \"white\", \"showbackground\": true, \"ticks\": \"\", \"zerolinecolor\": \"white\"}, \"yaxis\": {\"backgroundcolor\": \"#E5ECF6\", \"gridcolor\": \"white\", \"gridwidth\": 2, \"linecolor\": \"white\", \"showbackground\": true, \"ticks\": \"\", \"zerolinecolor\": \"white\"}, \"zaxis\": {\"backgroundcolor\": \"#E5ECF6\", \"gridcolor\": \"white\", \"gridwidth\": 2, \"linecolor\": \"white\", \"showbackground\": true, \"ticks\": \"\", \"zerolinecolor\": \"white\"}}, \"shapedefaults\": {\"line\": {\"color\": \"#2a3f5f\"}}, \"ternary\": {\"aaxis\": {\"gridcolor\": \"white\", \"linecolor\": \"white\", \"ticks\": \"\"}, \"baxis\": {\"gridcolor\": \"white\", \"linecolor\": \"white\", \"ticks\": \"\"}, \"bgcolor\": \"#E5ECF6\", \"caxis\": {\"gridcolor\": \"white\", \"linecolor\": \"white\", \"ticks\": \"\"}}, \"title\": {\"x\": 0.05}, \"xaxis\": {\"automargin\": true, \"gridcolor\": \"white\", \"linecolor\": \"white\", \"ticks\": \"\", \"title\": {\"standoff\": 15}, \"zerolinecolor\": \"white\", \"zerolinewidth\": 2}, \"yaxis\": {\"automargin\": true, \"gridcolor\": \"white\", \"linecolor\": \"white\", \"ticks\": \"\", \"title\": {\"standoff\": 15}, \"zerolinecolor\": \"white\", \"zerolinewidth\": 2}}}, \"width\": 700, \"xaxis\": {\"anchor\": \"y\", \"domain\": [0.0, 0.48], \"title\": {\"text\": \"charges\"}}, \"xaxis2\": {\"anchor\": \"y2\", \"domain\": [0.5, 0.98], \"matches\": \"x\", \"title\": {\"text\": \"charges\"}}, \"xaxis3\": {\"anchor\": \"y3\", \"domain\": [0.0, 0.48], \"matches\": \"x\", \"showticklabels\": false}, \"xaxis4\": {\"anchor\": \"y4\", \"domain\": [0.5, 0.98], \"matches\": \"x\", \"showticklabels\": false}, \"yaxis\": {\"anchor\": \"x\", \"domain\": [0.0, 0.485], \"title\": {\"text\": \"count\"}}, \"yaxis2\": {\"anchor\": \"x2\", \"domain\": [0.0, 0.485], \"matches\": \"y\", \"showticklabels\": false}, \"yaxis3\": {\"anchor\": \"x3\", \"domain\": [0.515, 1.0], \"matches\": \"y\", \"title\": {\"text\": \"count\"}}, \"yaxis4\": {\"anchor\": \"x4\", \"domain\": [0.515, 1.0], \"matches\": \"y\", \"showticklabels\": false}},\n",
              "                        {\"responsive\": true}\n",
              "                    ).then(function(){\n",
              "                            \n",
              "var gd = document.getElementById('0bf9883a-97c4-4632-ac36-dd6663bc3399');\n",
              "var x = new MutationObserver(function (mutations, observer) {{\n",
              "        var display = window.getComputedStyle(gd).display;\n",
              "        if (!display || display === 'none') {{\n",
              "            console.log([gd, 'removed!']);\n",
              "            Plotly.purge(gd);\n",
              "            observer.disconnect();\n",
              "        }}\n",
              "}});\n",
              "\n",
              "// Listen for the removal of the full notebook cells\n",
              "var notebookContainer = gd.closest('#notebook-container');\n",
              "if (notebookContainer) {{\n",
              "    x.observe(notebookContainer, {childList: true});\n",
              "}}\n",
              "\n",
              "// Listen for the clearing of the current output cell\n",
              "var outputEl = gd.closest('.output');\n",
              "if (outputEl) {{\n",
              "    x.observe(outputEl, {childList: true});\n",
              "}}\n",
              "\n",
              "                        })\n",
              "                };\n",
              "                \n",
              "            </script>\n",
              "        </div>\n",
              "</body>\n",
              "</html>"
            ]
          },
          "metadata": {
            "tags": []
          }
        },
        {
          "output_type": "display_data",
          "data": {
            "image/png": "[encoded data removed]",
            "text/plain": [
              "<Figure size 432x288 with 1 Axes>"
            ]
          },
          "metadata": {
            "tags": []
          }
        }
      ]
    },
    {
      "cell_type": "code",
      "metadata": {
        "colab": {
          "base_uri": "https://localhost:8080/",
          "height": 402
        },
        "id": "u1m9iRHppGem",
        "outputId": "a89a02f9-c1fd-4ba1-dae1-86774b13d69c"
      },
      "source": [
        "df_dummies=pd.get_dummies(df,drop_first=True)\r\n",
        "df_dummies"
      ],
      "execution_count": 5,
      "outputs": [
        {
          "output_type": "execute_result",
          "data": {
            "text/html": [
              "<div>\n",
              "<style scoped>\n",
              "    .dataframe tbody tr th:only-of-type {\n",
              "        vertical-align: middle;\n",
              "    }\n",
              "\n",
              "    .dataframe tbody tr th {\n",
              "        vertical-align: top;\n",
              "    }\n",
              "\n",
              "    .dataframe thead th {\n",
              "        text-align: right;\n",
              "    }\n",
              "</style>\n",
              "<table border=\"1\" class=\"dataframe\">\n",
              "  <thead>\n",
              "    <tr style=\"text-align: right;\">\n",
              "      <th></th>\n",
              "      <th>age</th>\n",
              "      <th>bmi</th>\n",
              "      <th>children</th>\n",
              "      <th>charges</th>\n",
              "      <th>sex_male</th>\n",
              "      <th>smoker_yes</th>\n",
              "      <th>region_northwest</th>\n",
              "      <th>region_southeast</th>\n",
              "      <th>region_southwest</th>\n",
              "    </tr>\n",
              "  </thead>\n",
              "  <tbody>\n",
              "    <tr>\n",
              "      <th>0</th>\n",
              "      <td>19</td>\n",
              "      <td>27.900</td>\n",
              "      <td>0</td>\n",
              "      <td>16884.92400</td>\n",
              "      <td>0</td>\n",
              "      <td>1</td>\n",
              "      <td>0</td>\n",
              "      <td>0</td>\n",
              "      <td>1</td>\n",
              "    </tr>\n",
              "    <tr>\n",
              "      <th>1</th>\n",
              "      <td>18</td>\n",
              "      <td>33.770</td>\n",
              "      <td>1</td>\n",
              "      <td>1725.55230</td>\n",
              "      <td>1</td>\n",
              "      <td>0</td>\n",
              "      <td>0</td>\n",
              "      <td>1</td>\n",
              "      <td>0</td>\n",
              "    </tr>\n",
              "    <tr>\n",
              "      <th>2</th>\n",
              "      <td>28</td>\n",
              "      <td>33.000</td>\n",
              "      <td>3</td>\n",
              "      <td>4449.46200</td>\n",
              "      <td>1</td>\n",
              "      <td>0</td>\n",
              "      <td>0</td>\n",
              "      <td>1</td>\n",
              "      <td>0</td>\n",
              "    </tr>\n",
              "    <tr>\n",
              "      <th>3</th>\n",
              "      <td>33</td>\n",
              "      <td>22.705</td>\n",
              "      <td>0</td>\n",
              "      <td>21984.47061</td>\n",
              "      <td>1</td>\n",
              "      <td>0</td>\n",
              "      <td>1</td>\n",
              "      <td>0</td>\n",
              "      <td>0</td>\n",
              "    </tr>\n",
              "    <tr>\n",
              "      <th>4</th>\n",
              "      <td>32</td>\n",
              "      <td>28.880</td>\n",
              "      <td>0</td>\n",
              "      <td>3866.85520</td>\n",
              "      <td>1</td>\n",
              "      <td>0</td>\n",
              "      <td>1</td>\n",
              "      <td>0</td>\n",
              "      <td>0</td>\n",
              "    </tr>\n",
              "    <tr>\n",
              "      <th>...</th>\n",
              "      <td>...</td>\n",
              "      <td>...</td>\n",
              "      <td>...</td>\n",
              "      <td>...</td>\n",
              "      <td>...</td>\n",
              "      <td>...</td>\n",
              "      <td>...</td>\n",
              "      <td>...</td>\n",
              "      <td>...</td>\n",
              "    </tr>\n",
              "    <tr>\n",
              "      <th>1333</th>\n",
              "      <td>50</td>\n",
              "      <td>30.970</td>\n",
              "      <td>3</td>\n",
              "      <td>10600.54830</td>\n",
              "      <td>1</td>\n",
              "      <td>0</td>\n",
              "      <td>1</td>\n",
              "      <td>0</td>\n",
              "      <td>0</td>\n",
              "    </tr>\n",
              "    <tr>\n",
              "      <th>1334</th>\n",
              "      <td>18</td>\n",
              "      <td>31.920</td>\n",
              "      <td>0</td>\n",
              "      <td>2205.98080</td>\n",
              "      <td>0</td>\n",
              "      <td>0</td>\n",
              "      <td>0</td>\n",
              "      <td>0</td>\n",
              "      <td>0</td>\n",
              "    </tr>\n",
              "    <tr>\n",
              "      <th>1335</th>\n",
              "      <td>18</td>\n",
              "      <td>36.850</td>\n",
              "      <td>0</td>\n",
              "      <td>1629.83350</td>\n",
              "      <td>0</td>\n",
              "      <td>0</td>\n",
              "      <td>0</td>\n",
              "      <td>1</td>\n",
              "      <td>0</td>\n",
              "    </tr>\n",
              "    <tr>\n",
              "      <th>1336</th>\n",
              "      <td>21</td>\n",
              "      <td>25.800</td>\n",
              "      <td>0</td>\n",
              "      <td>2007.94500</td>\n",
              "      <td>0</td>\n",
              "      <td>0</td>\n",
              "      <td>0</td>\n",
              "      <td>0</td>\n",
              "      <td>1</td>\n",
              "    </tr>\n",
              "    <tr>\n",
              "      <th>1337</th>\n",
              "      <td>61</td>\n",
              "      <td>29.070</td>\n",
              "      <td>0</td>\n",
              "      <td>29141.36030</td>\n",
              "      <td>0</td>\n",
              "      <td>1</td>\n",
              "      <td>1</td>\n",
              "      <td>0</td>\n",
              "      <td>0</td>\n",
              "    </tr>\n",
              "  </tbody>\n",
              "</table>\n",
              "<p>1338 rows × 9 columns</p>\n",
              "</div>"
            ],
            "text/plain": [
              "      age     bmi  ...  region_southeast  region_southwest\n",
              "0      19  27.900  ...                 0                 1\n",
              "1      18  33.770  ...                 1                 0\n",
              "2      28  33.000  ...                 1                 0\n",
              "3      33  22.705  ...                 0                 0\n",
              "4      32  28.880  ...                 0                 0\n",
              "...   ...     ...  ...               ...               ...\n",
              "1333   50  30.970  ...                 0                 0\n",
              "1334   18  31.920  ...                 0                 0\n",
              "1335   18  36.850  ...                 1                 0\n",
              "1336   21  25.800  ...                 0                 1\n",
              "1337   61  29.070  ...                 0                 0\n",
              "\n",
              "[1338 rows x 9 columns]"
            ]
          },
          "metadata": {
            "tags": []
          },
          "execution_count": 5
        }
      ]
    },
    {
      "cell_type": "code",
      "metadata": {
        "colab": {
          "base_uri": "https://localhost:8080/",
          "height": 314
        },
        "id": "tuxz55dqp8Rf",
        "outputId": "a7800ed5-7a12-4f02-ab03-077cc7297163"
      },
      "source": [
        "df_dummies=pd.get_dummies(df,drop_first=True)\r\n",
        "df_dummies\r\n",
        "corr=df_dummies.corr()\r\n",
        "corr"
      ],
      "execution_count": 6,
      "outputs": [
        {
          "output_type": "execute_result",
          "data": {
            "text/html": [
              "<div>\n",
              "<style scoped>\n",
              "    .dataframe tbody tr th:only-of-type {\n",
              "        vertical-align: middle;\n",
              "    }\n",
              "\n",
              "    .dataframe tbody tr th {\n",
              "        vertical-align: top;\n",
              "    }\n",
              "\n",
              "    .dataframe thead th {\n",
              "        text-align: right;\n",
              "    }\n",
              "</style>\n",
              "<table border=\"1\" class=\"dataframe\">\n",
              "  <thead>\n",
              "    <tr style=\"text-align: right;\">\n",
              "      <th></th>\n",
              "      <th>age</th>\n",
              "      <th>bmi</th>\n",
              "      <th>children</th>\n",
              "      <th>charges</th>\n",
              "      <th>sex_male</th>\n",
              "      <th>smoker_yes</th>\n",
              "      <th>region_northwest</th>\n",
              "      <th>region_southeast</th>\n",
              "      <th>region_southwest</th>\n",
              "    </tr>\n",
              "  </thead>\n",
              "  <tbody>\n",
              "    <tr>\n",
              "      <th>age</th>\n",
              "      <td>1.000000</td>\n",
              "      <td>0.109272</td>\n",
              "      <td>0.042469</td>\n",
              "      <td>0.299008</td>\n",
              "      <td>-0.020856</td>\n",
              "      <td>-0.025019</td>\n",
              "      <td>-0.000407</td>\n",
              "      <td>-0.011642</td>\n",
              "      <td>0.010016</td>\n",
              "    </tr>\n",
              "    <tr>\n",
              "      <th>bmi</th>\n",
              "      <td>0.109272</td>\n",
              "      <td>1.000000</td>\n",
              "      <td>0.012759</td>\n",
              "      <td>0.198341</td>\n",
              "      <td>0.046371</td>\n",
              "      <td>0.003750</td>\n",
              "      <td>-0.135996</td>\n",
              "      <td>0.270025</td>\n",
              "      <td>-0.006205</td>\n",
              "    </tr>\n",
              "    <tr>\n",
              "      <th>children</th>\n",
              "      <td>0.042469</td>\n",
              "      <td>0.012759</td>\n",
              "      <td>1.000000</td>\n",
              "      <td>0.067998</td>\n",
              "      <td>0.017163</td>\n",
              "      <td>0.007673</td>\n",
              "      <td>0.024806</td>\n",
              "      <td>-0.023066</td>\n",
              "      <td>0.021914</td>\n",
              "    </tr>\n",
              "    <tr>\n",
              "      <th>charges</th>\n",
              "      <td>0.299008</td>\n",
              "      <td>0.198341</td>\n",
              "      <td>0.067998</td>\n",
              "      <td>1.000000</td>\n",
              "      <td>0.057292</td>\n",
              "      <td>0.787251</td>\n",
              "      <td>-0.039905</td>\n",
              "      <td>0.073982</td>\n",
              "      <td>-0.043210</td>\n",
              "    </tr>\n",
              "    <tr>\n",
              "      <th>sex_male</th>\n",
              "      <td>-0.020856</td>\n",
              "      <td>0.046371</td>\n",
              "      <td>0.017163</td>\n",
              "      <td>0.057292</td>\n",
              "      <td>1.000000</td>\n",
              "      <td>0.076185</td>\n",
              "      <td>-0.011156</td>\n",
              "      <td>0.017117</td>\n",
              "      <td>-0.004184</td>\n",
              "    </tr>\n",
              "    <tr>\n",
              "      <th>smoker_yes</th>\n",
              "      <td>-0.025019</td>\n",
              "      <td>0.003750</td>\n",
              "      <td>0.007673</td>\n",
              "      <td>0.787251</td>\n",
              "      <td>0.076185</td>\n",
              "      <td>1.000000</td>\n",
              "      <td>-0.036945</td>\n",
              "      <td>0.068498</td>\n",
              "      <td>-0.036945</td>\n",
              "    </tr>\n",
              "    <tr>\n",
              "      <th>region_northwest</th>\n",
              "      <td>-0.000407</td>\n",
              "      <td>-0.135996</td>\n",
              "      <td>0.024806</td>\n",
              "      <td>-0.039905</td>\n",
              "      <td>-0.011156</td>\n",
              "      <td>-0.036945</td>\n",
              "      <td>1.000000</td>\n",
              "      <td>-0.346265</td>\n",
              "      <td>-0.320829</td>\n",
              "    </tr>\n",
              "    <tr>\n",
              "      <th>region_southeast</th>\n",
              "      <td>-0.011642</td>\n",
              "      <td>0.270025</td>\n",
              "      <td>-0.023066</td>\n",
              "      <td>0.073982</td>\n",
              "      <td>0.017117</td>\n",
              "      <td>0.068498</td>\n",
              "      <td>-0.346265</td>\n",
              "      <td>1.000000</td>\n",
              "      <td>-0.346265</td>\n",
              "    </tr>\n",
              "    <tr>\n",
              "      <th>region_southwest</th>\n",
              "      <td>0.010016</td>\n",
              "      <td>-0.006205</td>\n",
              "      <td>0.021914</td>\n",
              "      <td>-0.043210</td>\n",
              "      <td>-0.004184</td>\n",
              "      <td>-0.036945</td>\n",
              "      <td>-0.320829</td>\n",
              "      <td>-0.346265</td>\n",
              "      <td>1.000000</td>\n",
              "    </tr>\n",
              "  </tbody>\n",
              "</table>\n",
              "</div>"
            ],
            "text/plain": [
              "                       age       bmi  ...  region_southeast  region_southwest\n",
              "age               1.000000  0.109272  ...         -0.011642          0.010016\n",
              "bmi               0.109272  1.000000  ...          0.270025         -0.006205\n",
              "children          0.042469  0.012759  ...         -0.023066          0.021914\n",
              "charges           0.299008  0.198341  ...          0.073982         -0.043210\n",
              "sex_male         -0.020856  0.046371  ...          0.017117         -0.004184\n",
              "smoker_yes       -0.025019  0.003750  ...          0.068498         -0.036945\n",
              "region_northwest -0.000407 -0.135996  ...         -0.346265         -0.320829\n",
              "region_southeast -0.011642  0.270025  ...          1.000000         -0.346265\n",
              "region_southwest  0.010016 -0.006205  ...         -0.346265          1.000000\n",
              "\n",
              "[9 rows x 9 columns]"
            ]
          },
          "metadata": {
            "tags": []
          },
          "execution_count": 6
        }
      ]
    },
    {
      "cell_type": "code",
      "metadata": {
        "colab": {
          "base_uri": "https://localhost:8080/",
          "height": 698
        },
        "id": "LAgo6Njdp_pO",
        "outputId": "f42f6464-82c2-4b28-9fd6-68b99805cba7"
      },
      "source": [
        "sns.set(style='white')  #biale tlo dla wykresu\r\n",
        "mask=np.zeros_like(corr) #tworzymy zerowa maske o wielkosci cor\r\n",
        "mask[np.tril_indices_from(mask)]=1#ustawiamy 1 wwartosciach ktore sie powtarzaja\r\n",
        "plt.subplots(figsize=(10,10)) #wielkosc wykresu\r\n",
        "cmap=sns.diverging_palette(200,10) #ustawiamy gradient kolorow(empirycznie)\r\n",
        "sns.heatmap(corr,mask=mask,cmap=cmap,vmax=0.25,vmin=-0.25) #wyswietlamy mape ciepla\r\n",
        "\r\n",
        "\r\n"
      ],
      "execution_count": 7,
      "outputs": [
        {
          "output_type": "execute_result",
          "data": {
            "text/plain": [
              "<matplotlib.axes._subplots.AxesSubplot at 0x7fafdbc7e8d0>"
            ]
          },
          "metadata": {
            "tags": []
          },
          "execution_count": 7
        },
        {
          "output_type": "display_data",
          "data": {
            "image/png": "[encoded data removed]",
            "text/plain": [
              "<Figure size 720x720 with 2 Axes>"
            ]
          },
          "metadata": {
            "tags": []
          }
        }
      ]
    },
    {
      "cell_type": "code",
      "metadata": {
        "colab": {
          "base_uri": "https://localhost:8080/",
          "height": 285
        },
        "id": "Unt5jBowqozC",
        "outputId": "d97e5abe-539c-4975-b901-7f3c67636e63"
      },
      "source": [
        "df_dummies.corr()['charges'].sort_values(ascending=False)\r\n",
        "df_dummies.corr()['charges'].sort_values().plot(kind='barh')\r\n"
      ],
      "execution_count": 8,
      "outputs": [
        {
          "output_type": "execute_result",
          "data": {
            "text/plain": [
              "<matplotlib.axes._subplots.AxesSubplot at 0x7fafd8bc2048>"
            ]
          },
          "metadata": {
            "tags": []
          },
          "execution_count": 8
        },
        {
          "output_type": "display_data",
          "data": {
            "image/png": "[encoded data removed]",
            "text/plain": [
              "<Figure size 432x288 with 1 Axes>"
            ]
          },
          "metadata": {
            "tags": []
          }
        }
      ]
    },
    {
      "cell_type": "code",
      "metadata": {
        "id": "efUr32eOs2W5",
        "colab": {
          "base_uri": "https://localhost:8080/"
        },
        "outputId": "9168ced0-4d9b-4336-8657-19abc1550f02"
      },
      "source": [
        " from sklearn.model_selection import train_test_split\r\n",
        "df1=df_dummies['charges']\r\n",
        "df2=df_dummies.drop(columns='charges')\r\n",
        "x_train, x_test, y_train, y_test = train_test_split(df1,df2,test_size=0.3)\r\n",
        "print(df1)\r\n",
        "print(df2)\r\n"
      ],
      "execution_count": 41,
      "outputs": [
        {
          "output_type": "stream",
          "text": [
            "0       16884.92400\n",
            "1        1725.55230\n",
            "2        4449.46200\n",
            "3       21984.47061\n",
            "4        3866.85520\n",
            "           ...     \n",
            "1333    10600.54830\n",
            "1334     2205.98080\n",
            "1335     1629.83350\n",
            "1336     2007.94500\n",
            "1337    29141.36030\n",
            "Name: charges, Length: 1338, dtype: float64\n",
            "      age     bmi  ...  region_southeast  region_southwest\n",
            "0      19  27.900  ...                 0                 1\n",
            "1      18  33.770  ...                 1                 0\n",
            "2      28  33.000  ...                 1                 0\n",
            "3      33  22.705  ...                 0                 0\n",
            "4      32  28.880  ...                 0                 0\n",
            "...   ...     ...  ...               ...               ...\n",
            "1333   50  30.970  ...                 0                 0\n",
            "1334   18  31.920  ...                 0                 0\n",
            "1335   18  36.850  ...                 1                 0\n",
            "1336   21  25.800  ...                 0                 1\n",
            "1337   61  29.070  ...                 0                 0\n",
            "\n",
            "[1338 rows x 8 columns]\n"
          ],
          "name": "stdout"
        }
      ]
    },
    {
      "cell_type": "code",
      "metadata": {
        "colab": {
          "base_uri": "https://localhost:8080/",
          "height": 1000
        },
        "id": "diboplI5oOsT",
        "outputId": "0e63c65a-4e1e-473e-bb39-e5fda6805902"
      },
      "source": [
        "from sklearn.model_selection import train_test_split\r\n",
        "from sklearn.linear_model import LinearRegression\r\n",
        "regressor = LinearRegression()\r\n",
        "regressor.fit(X_train, y_train)\r\n",
        "r2_score = regressor.score(x_test, y_test)\r\n",
        "print(f\"R2 score: {r2_score:.4f}\")\r\n"
      ],
      "execution_count": 43,
      "outputs": [
        {
          "output_type": "error",
          "ename": "ValueError",
          "evalue": "ignored",
          "traceback": [
            "\u001b[0;31m---------------------------------------------------------------------------\u001b[0m",
            "\u001b[0;31mValueError\u001b[0m                                Traceback (most recent call last)",
            "\u001b[0;32m<ipython-input-43-eb8dd830ab09>\u001b[0m in \u001b[0;36m<module>\u001b[0;34m()\u001b[0m\n\u001b[1;32m      2\u001b[0m \u001b[0;32mfrom\u001b[0m \u001b[0msklearn\u001b[0m\u001b[0;34m.\u001b[0m\u001b[0mlinear_model\u001b[0m \u001b[0;32mimport\u001b[0m \u001b[0mLinearRegression\u001b[0m\u001b[0;34m\u001b[0m\u001b[0;34m\u001b[0m\u001b[0m\n\u001b[1;32m      3\u001b[0m \u001b[0mregressor\u001b[0m \u001b[0;34m=\u001b[0m \u001b[0mLinearRegression\u001b[0m\u001b[0;34m(\u001b[0m\u001b[0;34m)\u001b[0m\u001b[0;34m\u001b[0m\u001b[0;34m\u001b[0m\u001b[0m\n\u001b[0;32m----> 4\u001b[0;31m \u001b[0mregressor\u001b[0m\u001b[0;34m.\u001b[0m\u001b[0mfit\u001b[0m\u001b[0;34m(\u001b[0m\u001b[0mX_train\u001b[0m\u001b[0;34m,\u001b[0m \u001b[0my_train\u001b[0m\u001b[0;34m)\u001b[0m\u001b[0;34m\u001b[0m\u001b[0;34m\u001b[0m\u001b[0m\n\u001b[0m\u001b[1;32m      5\u001b[0m \u001b[0mr2_score\u001b[0m \u001b[0;34m=\u001b[0m \u001b[0mregressor\u001b[0m\u001b[0;34m.\u001b[0m\u001b[0mscore\u001b[0m\u001b[0;34m(\u001b[0m\u001b[0mx_test\u001b[0m\u001b[0;34m,\u001b[0m \u001b[0my_test\u001b[0m\u001b[0;34m)\u001b[0m\u001b[0;34m\u001b[0m\u001b[0;34m\u001b[0m\u001b[0m\n\u001b[1;32m      6\u001b[0m \u001b[0mprint\u001b[0m\u001b[0;34m(\u001b[0m\u001b[0;34mf\"R2 score: {r2_score:.4f}\"\u001b[0m\u001b[0;34m)\u001b[0m\u001b[0;34m\u001b[0m\u001b[0;34m\u001b[0m\u001b[0m\n",
            "\u001b[0;32m/usr/local/lib/python3.6/dist-packages/sklearn/linear_model/_base.py\u001b[0m in \u001b[0;36mfit\u001b[0;34m(self, X, y, sample_weight)\u001b[0m\n\u001b[1;32m    490\u001b[0m         \u001b[0mn_jobs_\u001b[0m \u001b[0;34m=\u001b[0m \u001b[0mself\u001b[0m\u001b[0;34m.\u001b[0m\u001b[0mn_jobs\u001b[0m\u001b[0;34m\u001b[0m\u001b[0;34m\u001b[0m\u001b[0m\n\u001b[1;32m    491\u001b[0m         X, y = check_X_y(X, y, accept_sparse=['csr', 'csc', 'coo'],\n\u001b[0;32m--> 492\u001b[0;31m                          y_numeric=True, multi_output=True)\n\u001b[0m\u001b[1;32m    493\u001b[0m \u001b[0;34m\u001b[0m\u001b[0m\n\u001b[1;32m    494\u001b[0m         \u001b[0;32mif\u001b[0m \u001b[0msample_weight\u001b[0m \u001b[0;32mis\u001b[0m \u001b[0;32mnot\u001b[0m \u001b[0;32mNone\u001b[0m\u001b[0;34m:\u001b[0m\u001b[0;34m\u001b[0m\u001b[0;34m\u001b[0m\u001b[0m\n",
            "\u001b[0;32m/usr/local/lib/python3.6/dist-packages/sklearn/utils/validation.py\u001b[0m in \u001b[0;36mcheck_X_y\u001b[0;34m(X, y, accept_sparse, accept_large_sparse, dtype, order, copy, force_all_finite, ensure_2d, allow_nd, multi_output, ensure_min_samples, ensure_min_features, y_numeric, warn_on_dtype, estimator)\u001b[0m\n\u001b[1;32m    753\u001b[0m                     \u001b[0mensure_min_features\u001b[0m\u001b[0;34m=\u001b[0m\u001b[0mensure_min_features\u001b[0m\u001b[0;34m,\u001b[0m\u001b[0;34m\u001b[0m\u001b[0;34m\u001b[0m\u001b[0m\n\u001b[1;32m    754\u001b[0m                     \u001b[0mwarn_on_dtype\u001b[0m\u001b[0;34m=\u001b[0m\u001b[0mwarn_on_dtype\u001b[0m\u001b[0;34m,\u001b[0m\u001b[0;34m\u001b[0m\u001b[0;34m\u001b[0m\u001b[0m\n\u001b[0;32m--> 755\u001b[0;31m                     estimator=estimator)\n\u001b[0m\u001b[1;32m    756\u001b[0m     \u001b[0;32mif\u001b[0m \u001b[0mmulti_output\u001b[0m\u001b[0;34m:\u001b[0m\u001b[0;34m\u001b[0m\u001b[0;34m\u001b[0m\u001b[0m\n\u001b[1;32m    757\u001b[0m         y = check_array(y, 'csr', force_all_finite=True, ensure_2d=False,\n",
            "\u001b[0;32m/usr/local/lib/python3.6/dist-packages/sklearn/utils/validation.py\u001b[0m in \u001b[0;36mcheck_array\u001b[0;34m(array, accept_sparse, accept_large_sparse, dtype, order, copy, force_all_finite, ensure_2d, allow_nd, ensure_min_samples, ensure_min_features, warn_on_dtype, estimator)\u001b[0m\n\u001b[1;32m    554\u001b[0m                     \u001b[0;34m\"Reshape your data either using array.reshape(-1, 1) if \"\u001b[0m\u001b[0;34m\u001b[0m\u001b[0;34m\u001b[0m\u001b[0m\n\u001b[1;32m    555\u001b[0m                     \u001b[0;34m\"your data has a single feature or array.reshape(1, -1) \"\u001b[0m\u001b[0;34m\u001b[0m\u001b[0;34m\u001b[0m\u001b[0m\n\u001b[0;32m--> 556\u001b[0;31m                     \"if it contains a single sample.\".format(array))\n\u001b[0m\u001b[1;32m    557\u001b[0m \u001b[0;34m\u001b[0m\u001b[0m\n\u001b[1;32m    558\u001b[0m         \u001b[0;31m# in the future np.flexible dtypes will be handled like object dtypes\u001b[0m\u001b[0;34m\u001b[0m\u001b[0;34m\u001b[0m\u001b[0;34m\u001b[0m\u001b[0m\n",
            "\u001b[0;31mValueError\u001b[0m: Expected 2D array, got 1D array instead:\narray=[44400.4064    7201.70085  18806.14547  13352.0998    1725.5523\n  3309.7926   12913.9924   14474.675     8442.667     4074.4537\n  5148.5526   37270.1512   18903.49141   9432.9253   21774.32215\n  6238.298    10264.4421    8232.6388    6067.12675   1759.338\n  3277.161    12638.195    28923.13692   1629.8335   24059.68019\n  4058.1161    2137.6536    4350.5144    9866.30485   6334.34355\n  7243.8136    3443.064     2464.6188    5028.1466    9563.029\n 12957.118    11454.0215   34166.273    16069.08475   2523.1695\n 25309.489    14358.36437  25678.77845  21223.6758    9377.9047\n 16115.3045    7640.3092   16577.7795   14001.1338    8606.2174\n 13012.20865  16297.846     4762.329    17942.106    13224.693\n  6356.2707    3645.0894    1253.936    10602.385    39556.4945\n  7804.1605    2217.6012    4441.21315  15359.1045    3947.4131\n 12574.049    33907.548    12044.342    10197.7722   12475.3513\n  1639.5631    1534.3045    1627.28245   4433.3877   16450.8947\n  2261.5688    1837.2819    1261.859     4661.28635   8522.003\n  2203.73595   5375.038    15019.76005  36950.2567    2801.2588\n 26140.3603    5972.378    55135.40209   3554.203     3577.999\n 26926.5144   18223.4512   22493.65964   6282.235     8342.90875\n  8334.5896   27037.9141   19719.6947    8733.22925  37484.4493\n  4032.2407   12730.9996   51194.55914   7209.4918    4189.1131\n  5469.0066    8125.7845   38126.2465   14119.62      1728.897\n  3561.8889    5729.0053   13880.949    12622.1795    8444.474\n 40103.89     12629.8967   14478.33015   2045.68525  16796.41194\n 11538.421     8627.5411    2352.96845   2200.83085   8551.347\n 12265.5069   37165.1638    3353.4703    8211.1002   33732.6867\n 13457.9608    2680.9493   22192.43711   6112.35295   5327.40025\n 48885.13561  11289.10925  23563.01618  10577.087     2007.945\n 34838.873     1149.3959   43254.41795   3877.30425   6079.6715\n  2527.81865  24915.04626  39047.285     9634.538     6313.759\n 39983.42595  18608.262     5124.1887   12495.29085   1263.249\n 13844.7972    1702.4553    5354.07465  13770.0979   37742.5757\n 21195.818    24520.264    48517.56315  36149.4835    4877.98105\n 28468.91901  11658.37915  11286.5387    3857.75925   7650.77375\n 20630.28351   5926.846     9048.0273    8124.4084   22462.04375\n 36197.699    27117.99378  45710.20785   7418.522     3766.8838\n 10085.846     3875.7341   10435.06525   1832.094     1631.8212\n  9225.2564    3279.86855  10450.552    14382.70905   6555.07035\n  6414.178    16138.76205  34779.615     8083.9198   18648.4217\n 11244.3769    1242.816    44585.45587  22218.1149   14426.07385\n 11299.343     9174.13565  11735.87905  45863.205     1135.9407\n 32548.3405   15161.5344   48675.5177   20984.0936   20745.9891\n  8582.3023   36837.467     2404.7338   13725.47184   4260.744\n 12222.8983   15006.57945   4751.07      8277.523    41999.52\n  8827.2099    5472.449     4463.2051   37133.8982   12142.5786\n  6986.697    11070.535     3579.8287   10848.1343   42303.69215\n  5594.8455    2699.56835   3213.62205   2867.1196    4504.6624\n  9724.53     10214.636    22395.74424  10096.97     22412.6485\n 12982.8747    1241.565     3176.8159    5488.262     4076.497\n  6198.7518    3659.346    39836.519    35069.37452   9282.4806\n  1137.011     8944.1151    2166.732     7633.7206   10231.4999\n  3070.8087    5253.524     6474.013     1621.8827    3736.4647\n 17904.52705  22478.6      11394.06555   6082.405     3410.324\n  6358.77645   1136.3994   10977.2063   20277.80751   1391.5287\n  8569.8618    1880.487    10422.91665   2136.88225  11881.9696\n  7045.499    11082.5772   12981.3457   31620.00106   4718.20355\n  6373.55735  12949.1554    3594.17085   9500.57305  11945.1327\n  4883.866    30184.9367   45702.02235   2897.3235   35147.52848\n  5979.731     4527.18295   6571.02435   3062.50825   7162.0122\n  8538.28845  44260.7499    8688.85885  47496.49445   8302.53565\n  1607.5101    2483.736     8891.1395    7228.21565   5152.134\n 42983.4585    9991.03765   2721.3208   10355.641     6455.86265\n 26236.57997  38415.474     1137.4697    3208.787     8116.26885\n  3994.1778    2138.0707   11737.84884  17352.6803    9715.841\n 14711.7438   21259.37795  10959.33     10072.05505   5458.04645\n 40273.6455    3260.199     7147.105     4646.759     5209.57885\n  6406.4107    4234.927    36085.219     4151.0287    8965.79575\n 21348.706     8978.1851   62592.87309  20420.60465   8334.45755\n  3392.9768   46889.2612    2155.6815   37465.34375   1633.9618\n  9193.8385    7626.993     5934.3798    7281.5056    5438.7491\n  2741.948     2150.469     3171.6149    7789.635     9541.69555\n 14283.4594   22331.5668   11842.62375  11363.2832    7749.1564\n 19023.26     39725.51805   9644.2525    6849.026     4500.33925\n 43578.9394   18033.9679    1515.3449   39241.442    21978.6769\n 11552.904     6113.23105   3972.9247   11455.28     47896.79135\n 13470.86      6710.1919   43921.1837    7077.1894    9704.66805\n  8556.907    30942.1918   17081.08      7160.3303    3756.6216\n  9182.17     28287.89766   6289.7549   10107.2206    4005.4225\n 19444.2658    2459.7201   26018.95052  19515.5416    5478.0368\n 11353.2276   21771.3423    8310.83915   5400.9805    9748.9106\n 15170.069     5012.471    19040.876    34439.8559    4536.259\n 12146.971    41034.2214    4906.40965  10601.412    34472.841\n  5003.853    27941.28758   4149.736    10600.5483   41919.097\n  9290.1395    1906.35825   4746.344     9391.346     3537.703\n 11879.10405  39871.7043   40720.55105  11566.30055  12557.6053\n 11946.6259   42969.8527    9964.06     13822.803    19144.57652\n  8601.3293   39774.2763   20009.63365   6402.29135  10713.644\n  5976.8311   21232.18226  12333.828     1694.7964    1877.9294\n  3046.062     6610.1097    2055.3249    4349.462     4915.05985\n 34303.1672   33475.81715   7954.517     9778.3472   33900.653\n  2020.5523    7261.741    52590.82939  12269.68865  14254.6082\n  7152.6714    5709.1644    4040.55825  13430.265    14007.222\n 18767.7377    5649.715    13462.52      7133.9025    9850.432\n  6652.5288   11881.358     2597.779    10461.9794    4466.6214\n  4347.02335  11833.7823    8023.13545  22144.032    11763.0009\n 28868.6639    4134.08245   4922.9159   10942.13205   6640.54485\n  8240.5896    3484.331    42112.2356    4738.2682   48549.17835\n 17178.6824   30166.61817  13019.16105  42760.5022    7742.1098\n 12404.8791   12646.207    12224.35085  21880.82     25382.297\n 21797.0004   11944.59435   2730.10785   8798.593     5757.41345\n  8252.2843   32108.66282  10065.413     3021.80915   4337.7352\n 36397.576     4795.6568   18310.742     4949.7587   38282.7495\n 30259.99556  46200.9851    9910.35985   2201.0971    4846.92015\n  6185.3208   13041.921     1727.54     27000.98473  40003.33225\n 13844.506    42124.5153   27533.9129   11938.25595   9617.66245\n  4894.7533   37701.8768   23065.4207   23967.38305   2457.502\n  3393.35635   6858.4796   25992.82104   4391.652     9855.1314\n  5272.1758    7358.17565   1875.344    10601.63225   8515.7587\n 17085.2676   16776.30405  19199.944    10493.9458    7345.7266\n  9222.4026    7323.734819  8527.532     6948.7008    1674.6323\n  6123.5688   11884.04858   4992.3764    6250.435     4185.0979\n 14988.432     6059.173     5615.369    11931.12525  27808.7251\n  6571.544     1704.70015  14235.072    13112.6048   44423.803\n  8413.46305   2102.2647   47291.055    17878.90068   2974.126\n  2498.4144   10325.206    35160.13457   7624.63      8782.469\n 28101.33305  38998.546     6435.6237    8671.19125  14418.2804\n  4433.9159    3366.6697   25656.57526   7518.02535  45008.9555\n 33750.2918    5227.98875  27375.90478   5125.2157    5425.02335\n  1824.2854   12029.2867    9630.397    10959.6947    9288.0267\n  1646.4297    1980.07     39611.7577   13405.3903    4564.19145\n 41676.0811   49577.6624    3906.127     7726.854    19594.80965\n 47462.894     1532.4697    4673.3922    2362.22905   4357.04365\n  7682.67      2690.1138    9504.3103    9411.005     1622.1885\n 12644.589     8988.15875   1984.4533   19107.7796   17496.306\n 10923.9332   35595.5898   12592.5345    2257.47525   4320.41085\n 36021.0112    2585.85065  23244.7902    3597.596     3704.3545\n 30284.64294   7196.867     1719.4363   11033.6617    6196.448\n  2710.82855  12485.8009    2304.0022    2134.9015    7526.70645\n 14692.66935   7441.501    14571.8908   15820.699     6551.7501\n 40904.1995    1141.4451   10965.446    23568.272    25333.33284\n 21098.55405   2473.3341    4667.60765   2689.4954    7727.2532\n  1261.442    13937.6665   14256.1928    6203.90175   6837.3687\n 10370.91255  11305.93455   7050.642    14001.2867    7265.7025\n 23306.547     3378.91      7173.35995   8062.764     4428.88785\n 26125.67477   9447.3824    1615.7667   15230.32405   2217.46915\n  1964.78     11013.7119   14319.031    10118.424    21344.8467\n 11520.09985   7348.142    39597.4072    2254.7967   10269.46\n  1131.5066   24915.22085  24227.33724  13228.84695  34828.654\n  5397.6167    3989.841     3987.926    21677.28345   8428.0693\n 10564.8845   26109.32905  18218.16139  13981.85035  19496.71917\n 23887.6627    8823.98575  23807.2406    2207.69745  16420.49455\n  6600.20595  19361.9988   10797.3362   12629.1656   44641.1974\n  7046.7222    1163.4627   19521.9682   13635.6379   15518.18025\n  1917.3184   17468.9839   16586.49771  43753.33705   1972.95\n 13607.36875   9264.797     5969.723     3471.4096    1146.7966\n  7985.815    20878.78443  60021.39897   9861.025     5989.52365\n  1969.614     5312.16985  11362.755     5138.2567    2902.9065\n  2719.27975   5002.7827   13393.756    38792.6856    9957.7216\n 40941.2854    2643.2685    3500.6123   34806.4677    2497.0383\n  5267.81815   1712.227     5584.3057    6311.952    36910.60803\n  7144.86265  13047.33235   9549.5651   10795.93733   9566.9909\n  6457.8434   46255.1125    1837.237     3077.0955    8162.71625\n  7371.772    14901.5167   21472.4788    3956.07145  12643.3778\n  7445.918    11856.4115   19933.458     7729.64575  29186.48236\n 11837.16     24393.6224   13415.0381   12523.6048    4340.4409\n  5257.50795   1826.843    12797.20962  23401.30575  40419.0191\n  1769.53165  39727.614    12032.326    14394.39815   2302.3\n  3161.454    46113.511    18955.22017   1121.8739    8068.185\n  4454.40265   6186.127     8457.818     2020.177    36189.1017\n  8233.0975   11658.11505  34254.05335  35585.576    25081.76784\n 11488.31695   4544.2348   39125.33225  29141.3603   16657.71745\n  7537.1639   23241.47453   8547.6913    3591.48     17179.522\n  2904.088     8964.06055   5920.1041    2850.68375   8520.026\n 40932.4295   24873.3849    3353.284     7443.64305  11356.6609\n  1634.5734    4296.2712   10156.7832   24535.69855  20149.3229\n 20234.85475   6770.1925    3847.674     1711.0268    5383.536\n  8516.829    16455.70785   4237.12655  47269.854     3925.7582\n 11093.6229    7731.85785  15817.9857    4719.73655   2731.9122\n  6796.86325  41661.602    10407.08585  11743.9341    6985.50695\n  6933.24225  17128.42608   4133.64165  12890.05765  38746.3551\n 11187.6567   11830.6072   20773.62775  12244.531     8765.249\n  1967.0227    2927.0647    3292.52985   5699.8375   27322.73386\n 24603.04837   4571.41305  44501.3982    6875.961    33307.5508\n  5630.45785  13429.0354   11264.541     2775.19215   2396.0959\n 32734.1863   26467.09737   9283.562     7740.337     9800.8882\n  5377.4578   11163.568    47928.03      1880.07     11345.519\n 35491.64      4931.647     5385.3379    5428.7277   11657.7189\n  1977.815    42211.1382   12815.44495  18246.4955    2103.08\n 17929.30337   1731.677    13204.28565  11987.1682   18259.216\n 13451.122     2221.56445   4562.8421    2755.02095  12829.4551\n  1727.785    10106.13425   8280.6227    1633.0444   11674.13\n  5836.5204    4686.3887    1628.4709   46718.16325  46661.4424\n 17748.5062    8615.3       1842.519    17663.1442   12347.172\n  7345.084    12323.936    28340.18885   4561.1885    4058.71245\n  3238.4357   17560.37975  46130.5265   38709.176     3935.1799\n 10141.1362   46599.1084   14210.53595  13470.8044   13390.559\n  4529.477     4719.52405  11381.3254    2395.17155   5662.225\n  4399.731   ].\nReshape your data either using array.reshape(-1, 1) if your data has a single feature or array.reshape(1, -1) if it contains a single sample."
          ]
        }
      ]
    },
    {
      "cell_type": "code",
      "metadata": {
        "colab": {
          "base_uri": "https://localhost:8080/",
          "height": 320
        },
        "id": "IP90rXEipg4R",
        "outputId": "e54fe4ec-6a30-420e-92c1-81e3714b1a1b"
      },
      "source": [
        "y_pred = regressor.predict(x_test)\r\n",
        "y_pred[:10]\r\n"
      ],
      "execution_count": 45,
      "outputs": [
        {
          "output_type": "error",
          "ename": "NotFittedError",
          "evalue": "ignored",
          "traceback": [
            "\u001b[0;31m---------------------------------------------------------------------------\u001b[0m",
            "\u001b[0;31mNotFittedError\u001b[0m                            Traceback (most recent call last)",
            "\u001b[0;32m<ipython-input-45-d69d975185ce>\u001b[0m in \u001b[0;36m<module>\u001b[0;34m()\u001b[0m\n\u001b[0;32m----> 1\u001b[0;31m \u001b[0my_pred\u001b[0m \u001b[0;34m=\u001b[0m \u001b[0mregressor\u001b[0m\u001b[0;34m.\u001b[0m\u001b[0mpredict\u001b[0m\u001b[0;34m(\u001b[0m\u001b[0mx_test\u001b[0m\u001b[0;34m)\u001b[0m\u001b[0;34m\u001b[0m\u001b[0;34m\u001b[0m\u001b[0m\n\u001b[0m\u001b[1;32m      2\u001b[0m \u001b[0my_pred\u001b[0m\u001b[0;34m[\u001b[0m\u001b[0;34m:\u001b[0m\u001b[0;36m10\u001b[0m\u001b[0;34m]\u001b[0m\u001b[0;34m\u001b[0m\u001b[0;34m\u001b[0m\u001b[0m\n",
            "\u001b[0;32m/usr/local/lib/python3.6/dist-packages/sklearn/linear_model/_base.py\u001b[0m in \u001b[0;36mpredict\u001b[0;34m(self, X)\u001b[0m\n\u001b[1;32m    223\u001b[0m             \u001b[0mReturns\u001b[0m \u001b[0mpredicted\u001b[0m \u001b[0mvalues\u001b[0m\u001b[0;34m.\u001b[0m\u001b[0;34m\u001b[0m\u001b[0;34m\u001b[0m\u001b[0m\n\u001b[1;32m    224\u001b[0m         \"\"\"\n\u001b[0;32m--> 225\u001b[0;31m         \u001b[0;32mreturn\u001b[0m \u001b[0mself\u001b[0m\u001b[0;34m.\u001b[0m\u001b[0m_decision_function\u001b[0m\u001b[0;34m(\u001b[0m\u001b[0mX\u001b[0m\u001b[0;34m)\u001b[0m\u001b[0;34m\u001b[0m\u001b[0;34m\u001b[0m\u001b[0m\n\u001b[0m\u001b[1;32m    226\u001b[0m \u001b[0;34m\u001b[0m\u001b[0m\n\u001b[1;32m    227\u001b[0m     \u001b[0m_preprocess_data\u001b[0m \u001b[0;34m=\u001b[0m \u001b[0mstaticmethod\u001b[0m\u001b[0;34m(\u001b[0m\u001b[0m_preprocess_data\u001b[0m\u001b[0;34m)\u001b[0m\u001b[0;34m\u001b[0m\u001b[0;34m\u001b[0m\u001b[0m\n",
            "\u001b[0;32m/usr/local/lib/python3.6/dist-packages/sklearn/linear_model/_base.py\u001b[0m in \u001b[0;36m_decision_function\u001b[0;34m(self, X)\u001b[0m\n\u001b[1;32m    203\u001b[0m \u001b[0;34m\u001b[0m\u001b[0m\n\u001b[1;32m    204\u001b[0m     \u001b[0;32mdef\u001b[0m \u001b[0m_decision_function\u001b[0m\u001b[0;34m(\u001b[0m\u001b[0mself\u001b[0m\u001b[0;34m,\u001b[0m \u001b[0mX\u001b[0m\u001b[0;34m)\u001b[0m\u001b[0;34m:\u001b[0m\u001b[0;34m\u001b[0m\u001b[0;34m\u001b[0m\u001b[0m\n\u001b[0;32m--> 205\u001b[0;31m         \u001b[0mcheck_is_fitted\u001b[0m\u001b[0;34m(\u001b[0m\u001b[0mself\u001b[0m\u001b[0;34m)\u001b[0m\u001b[0;34m\u001b[0m\u001b[0;34m\u001b[0m\u001b[0m\n\u001b[0m\u001b[1;32m    206\u001b[0m \u001b[0;34m\u001b[0m\u001b[0m\n\u001b[1;32m    207\u001b[0m         \u001b[0mX\u001b[0m \u001b[0;34m=\u001b[0m \u001b[0mcheck_array\u001b[0m\u001b[0;34m(\u001b[0m\u001b[0mX\u001b[0m\u001b[0;34m,\u001b[0m \u001b[0maccept_sparse\u001b[0m\u001b[0;34m=\u001b[0m\u001b[0;34m[\u001b[0m\u001b[0;34m'csr'\u001b[0m\u001b[0;34m,\u001b[0m \u001b[0;34m'csc'\u001b[0m\u001b[0;34m,\u001b[0m \u001b[0;34m'coo'\u001b[0m\u001b[0;34m]\u001b[0m\u001b[0;34m)\u001b[0m\u001b[0;34m\u001b[0m\u001b[0;34m\u001b[0m\u001b[0m\n",
            "\u001b[0;32m/usr/local/lib/python3.6/dist-packages/sklearn/utils/validation.py\u001b[0m in \u001b[0;36mcheck_is_fitted\u001b[0;34m(estimator, attributes, msg, all_or_any)\u001b[0m\n\u001b[1;32m    965\u001b[0m \u001b[0;34m\u001b[0m\u001b[0m\n\u001b[1;32m    966\u001b[0m     \u001b[0;32mif\u001b[0m \u001b[0;32mnot\u001b[0m \u001b[0mattrs\u001b[0m\u001b[0;34m:\u001b[0m\u001b[0;34m\u001b[0m\u001b[0;34m\u001b[0m\u001b[0m\n\u001b[0;32m--> 967\u001b[0;31m         \u001b[0;32mraise\u001b[0m \u001b[0mNotFittedError\u001b[0m\u001b[0;34m(\u001b[0m\u001b[0mmsg\u001b[0m \u001b[0;34m%\u001b[0m \u001b[0;34m{\u001b[0m\u001b[0;34m'name'\u001b[0m\u001b[0;34m:\u001b[0m \u001b[0mtype\u001b[0m\u001b[0;34m(\u001b[0m\u001b[0mestimator\u001b[0m\u001b[0;34m)\u001b[0m\u001b[0;34m.\u001b[0m\u001b[0m__name__\u001b[0m\u001b[0;34m}\u001b[0m\u001b[0;34m)\u001b[0m\u001b[0;34m\u001b[0m\u001b[0;34m\u001b[0m\u001b[0m\n\u001b[0m\u001b[1;32m    968\u001b[0m \u001b[0;34m\u001b[0m\u001b[0m\n\u001b[1;32m    969\u001b[0m \u001b[0;34m\u001b[0m\u001b[0m\n",
            "\u001b[0;31mNotFittedError\u001b[0m: This LinearRegression instance is not fitted yet. Call 'fit' with appropriate arguments before using this estimator."
          ]
        }
      ]
    },
    {
      "cell_type": "code",
      "metadata": {
        "colab": {
          "base_uri": "https://localhost:8080/",
          "height": 425
        },
        "id": "R-VaoYkKrKGp",
        "outputId": "b6333942-54c7-485d-8562-57cd269c883b"
      },
      "source": [
        "from sklearn.linear_model import LinearRegression\r\n",
        "x1=df_dummies['charges']\r\n",
        "y1=df_dummies.drop(columns='charges')\r\n",
        "X_train, X_test, y_train, y_test = train_test_split(x1,y1)\r\n",
        "regressor = LinearRegression()\r\n",
        "regressor.fit(X_train, y_train)\r\n",
        "y_pred = regressor.predict(X_test)\r\n",
        "y_pred[:10]\r\n",
        "y_true=y_test.copy()\r\n",
        "predictions = pd.DataFrame(data={'y_true': y_true, 'y_pred': y_pred})\r\n",
        "predictions['error']=predictions['y_true']-predictions['y_pred']\r\n",
        "predictions.head()"
      ],
      "execution_count": null,
      "outputs": [
        {
          "output_type": "error",
          "ename": "ValueError",
          "evalue": "ignored",
          "traceback": [
            "\u001b[0;31m---------------------------------------------------------------------------\u001b[0m",
            "\u001b[0;31mValueError\u001b[0m                                Traceback (most recent call last)",
            "\u001b[0;32m<ipython-input-37-0428a2e52397>\u001b[0m in \u001b[0;36m<module>\u001b[0;34m()\u001b[0m\n\u001b[1;32m      4\u001b[0m \u001b[0mX_train\u001b[0m\u001b[0;34m,\u001b[0m \u001b[0mX_test\u001b[0m\u001b[0;34m,\u001b[0m \u001b[0my_train\u001b[0m\u001b[0;34m,\u001b[0m \u001b[0my_test\u001b[0m \u001b[0;34m=\u001b[0m \u001b[0mtrain_test_split\u001b[0m\u001b[0;34m(\u001b[0m\u001b[0mx1\u001b[0m\u001b[0;34m,\u001b[0m\u001b[0my1\u001b[0m\u001b[0;34m)\u001b[0m\u001b[0;34m\u001b[0m\u001b[0;34m\u001b[0m\u001b[0m\n\u001b[1;32m      5\u001b[0m \u001b[0mregressor\u001b[0m \u001b[0;34m=\u001b[0m \u001b[0mLinearRegression\u001b[0m\u001b[0;34m(\u001b[0m\u001b[0;34m)\u001b[0m\u001b[0;34m\u001b[0m\u001b[0;34m\u001b[0m\u001b[0m\n\u001b[0;32m----> 6\u001b[0;31m \u001b[0mregressor\u001b[0m\u001b[0;34m.\u001b[0m\u001b[0mfit\u001b[0m\u001b[0;34m(\u001b[0m\u001b[0mX_train\u001b[0m\u001b[0;34m,\u001b[0m \u001b[0my_train\u001b[0m\u001b[0;34m)\u001b[0m\u001b[0;34m\u001b[0m\u001b[0;34m\u001b[0m\u001b[0m\n\u001b[0m\u001b[1;32m      7\u001b[0m \u001b[0my_pred\u001b[0m \u001b[0;34m=\u001b[0m \u001b[0mregressor\u001b[0m\u001b[0;34m.\u001b[0m\u001b[0mpredict\u001b[0m\u001b[0;34m(\u001b[0m\u001b[0mX_test\u001b[0m\u001b[0;34m)\u001b[0m\u001b[0;34m\u001b[0m\u001b[0;34m\u001b[0m\u001b[0m\n\u001b[1;32m      8\u001b[0m \u001b[0my_pred\u001b[0m\u001b[0;34m[\u001b[0m\u001b[0;34m:\u001b[0m\u001b[0;36m10\u001b[0m\u001b[0;34m]\u001b[0m\u001b[0;34m\u001b[0m\u001b[0;34m\u001b[0m\u001b[0m\n",
            "\u001b[0;32m/usr/local/lib/python3.6/dist-packages/sklearn/linear_model/_base.py\u001b[0m in \u001b[0;36mfit\u001b[0;34m(self, X, y, sample_weight)\u001b[0m\n\u001b[1;32m    490\u001b[0m         \u001b[0mn_jobs_\u001b[0m \u001b[0;34m=\u001b[0m \u001b[0mself\u001b[0m\u001b[0;34m.\u001b[0m\u001b[0mn_jobs\u001b[0m\u001b[0;34m\u001b[0m\u001b[0;34m\u001b[0m\u001b[0m\n\u001b[1;32m    491\u001b[0m         X, y = check_X_y(X, y, accept_sparse=['csr', 'csc', 'coo'],\n\u001b[0;32m--> 492\u001b[0;31m                          y_numeric=True, multi_output=True)\n\u001b[0m\u001b[1;32m    493\u001b[0m \u001b[0;34m\u001b[0m\u001b[0m\n\u001b[1;32m    494\u001b[0m         \u001b[0;32mif\u001b[0m \u001b[0msample_weight\u001b[0m \u001b[0;32mis\u001b[0m \u001b[0;32mnot\u001b[0m \u001b[0;32mNone\u001b[0m\u001b[0;34m:\u001b[0m\u001b[0;34m\u001b[0m\u001b[0;34m\u001b[0m\u001b[0m\n",
            "\u001b[0;32m/usr/local/lib/python3.6/dist-packages/sklearn/utils/validation.py\u001b[0m in \u001b[0;36mcheck_X_y\u001b[0;34m(X, y, accept_sparse, accept_large_sparse, dtype, order, copy, force_all_finite, ensure_2d, allow_nd, multi_output, ensure_min_samples, ensure_min_features, y_numeric, warn_on_dtype, estimator)\u001b[0m\n\u001b[1;32m    753\u001b[0m                     \u001b[0mensure_min_features\u001b[0m\u001b[0;34m=\u001b[0m\u001b[0mensure_min_features\u001b[0m\u001b[0;34m,\u001b[0m\u001b[0;34m\u001b[0m\u001b[0;34m\u001b[0m\u001b[0m\n\u001b[1;32m    754\u001b[0m                     \u001b[0mwarn_on_dtype\u001b[0m\u001b[0;34m=\u001b[0m\u001b[0mwarn_on_dtype\u001b[0m\u001b[0;34m,\u001b[0m\u001b[0;34m\u001b[0m\u001b[0;34m\u001b[0m\u001b[0m\n\u001b[0;32m--> 755\u001b[0;31m                     estimator=estimator)\n\u001b[0m\u001b[1;32m    756\u001b[0m     \u001b[0;32mif\u001b[0m \u001b[0mmulti_output\u001b[0m\u001b[0;34m:\u001b[0m\u001b[0;34m\u001b[0m\u001b[0;34m\u001b[0m\u001b[0m\n\u001b[1;32m    757\u001b[0m         y = check_array(y, 'csr', force_all_finite=True, ensure_2d=False,\n",
            "\u001b[0;32m/usr/local/lib/python3.6/dist-packages/sklearn/utils/validation.py\u001b[0m in \u001b[0;36mcheck_array\u001b[0;34m(array, accept_sparse, accept_large_sparse, dtype, order, copy, force_all_finite, ensure_2d, allow_nd, ensure_min_samples, ensure_min_features, warn_on_dtype, estimator)\u001b[0m\n\u001b[1;32m    554\u001b[0m                     \u001b[0;34m\"Reshape your data either using array.reshape(-1, 1) if \"\u001b[0m\u001b[0;34m\u001b[0m\u001b[0;34m\u001b[0m\u001b[0m\n\u001b[1;32m    555\u001b[0m                     \u001b[0;34m\"your data has a single feature or array.reshape(1, -1) \"\u001b[0m\u001b[0;34m\u001b[0m\u001b[0;34m\u001b[0m\u001b[0m\n\u001b[0;32m--> 556\u001b[0;31m                     \"if it contains a single sample.\".format(array))\n\u001b[0m\u001b[1;32m    557\u001b[0m \u001b[0;34m\u001b[0m\u001b[0m\n\u001b[1;32m    558\u001b[0m         \u001b[0;31m# in the future np.flexible dtypes will be handled like object dtypes\u001b[0m\u001b[0;34m\u001b[0m\u001b[0;34m\u001b[0m\u001b[0;34m\u001b[0m\u001b[0m\n",
            "\u001b[0;31mValueError\u001b[0m: Expected 2D array, got 1D array instead:\narray=[4779.6023  2104.1134  1708.92575 ... 2395.17155 5662.225   4399.731  ].\nReshape your data either using array.reshape(-1, 1) if your data has a single feature or array.reshape(1, -1) if it contains a single sample."
          ]
        }
      ]
    }
  ]
}