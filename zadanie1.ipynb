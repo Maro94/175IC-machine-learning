{
  "nbformat": 4,
  "nbformat_minor": 0,
  "metadata": {
    "colab": {
      "name": "zadanie1",
      "provenance": [],
      "authorship_tag": "ABX9TyPFbOTrQuqL1GEh85D+4U5S",
      "include_colab_link": true
    },
    "kernelspec": {
      "name": "python3",
      "display_name": "Python 3"
    }
  },
  "cells": [
    {
      "cell_type": "markdown",
      "metadata": {
        "id": "view-in-github",
        "colab_type": "text"
      },
      "source": [
        "<a href=\"https://colab.research.google.com/github/Maro94/175IC-machine-learning/blob/main/zadanie1.ipynb\" target=\"_parent\"><img src=\"https://colab.research.google.com/assets/colab-badge.svg\" alt=\"Open In Colab\"/></a>"
      ]
    },
    {
      "cell_type": "code",
      "metadata": {
        "id": "zsJ-6b1CvWEJ"
      },
      "source": [
        ""
      ],
      "execution_count": null,
      "outputs": []
    },
    {
      "cell_type": "code",
      "metadata": {
        "id": "QwDH1_aTvXH0",
        "outputId": "1971e2d9-7eea-4b8a-c3df-ec9c1a6c02c1",
        "colab": {
          "base_uri": "https://localhost:8080/"
        }
      },
      "source": [
        "from   sklearn import preprocessing\n",
        "from sklearn.preprocessing import StandardScaler\n",
        "import numpy as np\n",
        "import pandas as pd\n",
        "\n",
        "data = {\n",
        "    'size': ['L', 'S','XLL', 'XS','L', 'S','XLL', 'M'],\n",
        "    'color': ['green', 'red','blue', 'black','green', 'white','green', 'blue'],\n",
        "    'gender': ['female', 'male','male', 'female','male', 'male','female', 'female'],\n",
        "    'price': [19.0, 59.0,19.0, 89.0,249.0, 39.0,549.0, 59.0],\n",
        "    'weight': [280, 310,180, 710,680, 510,280, 310],\n",
        "    'bought': ['yes', 'yes','no', 'yes','no', 'yes','no', 'no']\n",
        "}\n",
        "df_raw = pd.DataFrame(data=data)\n",
        "df=df_raw.copy()\n",
        "#df.info()\n",
        "for col in ['size', 'color', 'gender', 'bought']:\n",
        "    df[col] = df[col].astype('category')\n",
        "#df.info()\n",
        "df.describe(include=['category']).T\n",
        "\n",
        "le =preprocessing.LabelEncoder()\n",
        "le.fit_transform(df['bought'])\n",
        "\n",
        "pd.get_dummies(data=df)\n",
        "pd.get_dummies(data=df, drop_first=True)\n",
        "scaler = StandardScaler()\n",
        "df[['price', 'weight']] = scaler.fit_transform(df[['price', 'weight']])\n",
        "print(df)"
      ],
      "execution_count": 1,
      "outputs": [
        {
          "output_type": "stream",
          "text": [
            "  size  color  gender     price    weight bought\n",
            "0    L  green  female -0.679448 -0.682064    yes\n",
            "1    S    red    male -0.445659 -0.521579    yes\n",
            "2  XLL   blue    male -0.679448 -1.217017     no\n",
            "3   XS  black  female -0.270318  1.618231    yes\n",
            "4    L  green    male  0.664836  1.457746     no\n",
            "5    S  white    male -0.562554  0.548326    yes\n",
            "6  XLL  green  female  2.418250 -0.682064     no\n",
            "7    M   blue  female -0.445659 -0.521579     no\n"
          ],
          "name": "stdout"
        }
      ]
    }
  ]
}