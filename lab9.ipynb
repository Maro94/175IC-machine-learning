{
  "nbformat": 4,
  "nbformat_minor": 0,
  "metadata": {
    "colab": {
      "name": "lab9",
      "provenance": [],
      "authorship_tag": "ABX9TyPP1xPQObXA7x/+3ya6Qpew",
      "include_colab_link": true
    },
    "kernelspec": {
      "name": "python3",
      "display_name": "Python 3"
    }
  },
  "cells": [
    {
      "cell_type": "markdown",
      "metadata": {
        "id": "view-in-github",
        "colab_type": "text"
      },
      "source": [
        "<a href=\"https://colab.research.google.com/github/Maro94/175IC-machine-learning/blob/main/lab9.ipynb\" target=\"_parent\"><img src=\"https://colab.research.google.com/assets/colab-badge.svg\" alt=\"Open In Colab\"/></a>"
      ]
    },
    {
      "cell_type": "code",
      "metadata": {
        "colab": {
          "base_uri": "https://localhost:8080/",
          "height": 434
        },
        "id": "OhY7WivKq_sY",
        "outputId": "516f9e48-7310-41ce-e929-de3887495aa7"
      },
      "source": [
        "import pandas as pd\r\n",
        "import numpy as np\r\n",
        "import matplotlib.pyplot as plt\r\n",
        "import seaborn as sns\r\n",
        "from sklearn.datasets import make_blobs\r\n",
        "import plotly.express as px\r\n",
        "import plotly.graph_objects as go\r\n",
        "from sklearn.neighbors import LocalOutlierFactor\r\n",
        "from sklearn.ensemble import IsolationForest\r\n",
        "\r\n",
        "# PRZY 1000 random_state\r\n",
        "sns.set(font_scale=1.2)\r\n",
        "np.random.seed(10)\r\n",
        "data=make_blobs(n_samples=20,cluster_std=2.0,random_state=40)[0]\r\n",
        "data[:5]\r\n",
        "\r\n",
        "tmp=pd.DataFrame(data=data,columns={'x1','x2'})\r\n",
        "px.scatter(tmp,x='x1',y='x2',template='plotly_dark')\r\n",
        "fig=go.Figure()\r\n",
        "fig1=px.density_heatmap(tmp,x='x1',y='x2',width=500,title='outliers',nbinsx=20,nbinsy=20)\r\n",
        "\r\n",
        "\r\n",
        "outlier=IsolationForest(n_estimators=20,contamination=0.5)\r\n",
        "outlier.fit(data)\r\n",
        "\r\n",
        "y_pred=outlier.predict(data)\r\n",
        "\r\n",
        "plt.figure(figsize=(12,7))\r\n",
        "plt.scatter(data[:,0],data[:,1], label='data',cmap='tab10')\r\n",
        "b1 = plt.scatter(data[:, 0], data[:, 1], c='red',\r\n",
        "                 s=20, edgecolor='k')\r\n",
        "\r\n",
        "legend=plt.legend()\r\n",
        "plt.show()\r\n",
        " "
      ],
      "execution_count": 11,
      "outputs": [
        {
          "output_type": "display_data",
          "data": {
            "image/png": "[encoded data removed]",
            "text/plain": [
              "<Figure size 864x504 with 1 Axes>"
            ]
          },
          "metadata": {
            "tags": []
          }
        }
      ]
    }
  ]
}