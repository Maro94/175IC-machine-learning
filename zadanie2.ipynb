{
  "nbformat": 4,
  "nbformat_minor": 0,
  "metadata": {
    "colab": {
      "name": "zadanie2",
      "provenance": [],
      "authorship_tag": "ABX9TyP1BxPtgVOX9NfuaQdoNTym",
      "include_colab_link": true
    },
    "kernelspec": {
      "name": "python3",
      "display_name": "Python 3"
    }
  },
  "cells": [
    {
      "cell_type": "markdown",
      "metadata": {
        "id": "view-in-github",
        "colab_type": "text"
      },
      "source": [
        "<a href=\"https://colab.research.google.com/github/Maro94/175IC-machine-learning/blob/main/zadanie2.ipynb\" target=\"_parent\"><img src=\"https://colab.research.google.com/assets/colab-badge.svg\" alt=\"Open In Colab\"/></a>"
      ]
    },
    {
      "cell_type": "code",
      "metadata": {
        "id": "VUcBWnSYHy_H",
        "outputId": "3e688a2f-41f7-424c-fbaa-21ce21a08eb9",
        "colab": {
          "base_uri": "https://localhost:8080/"
        }
      },
      "source": [
        "from   sklearn import preprocessing\n",
        "import numpy as np\n",
        "import pandas as pd\n",
        "from sklearn.model_selection import train_test_split\n",
        "\n",
        "data = {\n",
        "    'size': ['L', 'S',np.nan, 'XS','L', 'S','XLL', 'M'],\n",
        "    'color': ['green', 'red','blue', 'black','green', np.nan,'green', 'blue'],\n",
        "    'gender': [np.nan, 'np.nan',np.nan, 'female','male', 'male','female', 'female'],\n",
        "    'price': [np.nan, 59.0,19.0, 89.0,249.0, 39.0,549.0, 59.0],\n",
        "    'weight': [np.nan, 310,np.nan, 710,680, np.nan,280, 310],\n",
        "    'bought': ['yes', 'yes',np.nan, 'yes','no', np.nan,'no', 'no']\n",
        "}\n",
        "df_raw = pd.DataFrame(data=data)\n",
        "df=df_raw.copy()\n",
        "print(df)\n"
      ],
      "execution_count": 34,
      "outputs": [
        {
          "output_type": "stream",
          "text": [
            "  size  color  gender  price  weight bought\n",
            "0    L  green     NaN    NaN     NaN    yes\n",
            "1    S    red  np.nan   59.0   310.0    yes\n",
            "2  NaN   blue     NaN   19.0     NaN    NaN\n",
            "3   XS  black  female   89.0   710.0    yes\n",
            "4    L  green    male  249.0   680.0     no\n",
            "5    S    NaN    male   39.0     NaN    NaN\n",
            "6  XLL  green  female  549.0   280.0     no\n",
            "7    M   blue  female   59.0   310.0     no\n"
          ],
          "name": "stdout"
        }
      ]
    },
    {
      "cell_type": "code",
      "metadata": {
        "id": "cUTvSSA1IdUU",
        "outputId": "0a984d31-57e0-49f7-cdab-8c9124afcfea",
        "colab": {
          "base_uri": "https://localhost:8080/"
        }
      },
      "source": [
        "#1.\tpomiń dane, które mają 3 lub więcej pustych wartości\n",
        "df.dropna(thresh=len(df.keys())-2,inplace=True)\n",
        "print (df)"
      ],
      "execution_count": 15,
      "outputs": [
        {
          "output_type": "stream",
          "text": [
            "  size  color  gender  price  weight bought\n",
            "1    S    red  np.nan   59.0   310.0    yes\n",
            "3   XS  black  female   89.0   710.0    yes\n",
            "4    L  green    male  249.0   680.0     no\n",
            "6  XLL  green  female  549.0   280.0     no\n",
            "7    M   blue  female   59.0   310.0     no\n"
          ],
          "name": "stdout"
        }
      ]
    },
    {
      "cell_type": "code",
      "metadata": {
        "id": "t-Oq33z3I3ep",
        "outputId": "844bfbe6-2732-4903-a368-816a570b28a6",
        "colab": {
          "base_uri": "https://localhost:8080/"
        }
      },
      "source": [
        "#\twypełnij puste miejsca w kolumnie price wartością średnią\n",
        "df['price'].fillna(df['price'].mean(), inplace=True)\n",
        "print(df)"
      ],
      "execution_count": 17,
      "outputs": [
        {
          "output_type": "stream",
          "text": [
            "  size  color  gender       price  weight bought\n",
            "0    L  green     NaN  151.857143     NaN    yes\n",
            "1    S    red  np.nan   59.000000   310.0    yes\n",
            "2  NaN   blue     NaN   19.000000     NaN    NaN\n",
            "3   XS  black  female   89.000000   710.0    yes\n",
            "4    L  green    male  249.000000   680.0     no\n",
            "5    S    NaN    male   39.000000     NaN    NaN\n",
            "6  XLL  green  female  549.000000   280.0     no\n",
            "7    M   blue  female   59.000000   310.0     no\n"
          ],
          "name": "stdout"
        }
      ]
    },
    {
      "cell_type": "code",
      "metadata": {
        "id": "E_OTEqv_JVjb",
        "outputId": "73e71bb5-15d0-4cd2-d51d-354631626bb9",
        "colab": {
          "base_uri": "https://localhost:8080/"
        }
      },
      "source": [
        "#\twypełnij puste miejsca w kolumnie weight za pomocą interpolacji\n",
        "df['weight'].fillna(df['weight'].interpolate(), inplace=True)\n",
        "print(df)"
      ],
      "execution_count": 18,
      "outputs": [
        {
          "output_type": "stream",
          "text": [
            "  size  color  gender       price  weight bought\n",
            "0    L  green     NaN  151.857143     NaN    yes\n",
            "1    S    red  np.nan   59.000000   310.0    yes\n",
            "2  NaN   blue     NaN   19.000000   510.0    NaN\n",
            "3   XS  black  female   89.000000   710.0    yes\n",
            "4    L  green    male  249.000000   680.0     no\n",
            "5    S    NaN    male   39.000000   480.0    NaN\n",
            "6  XLL  green  female  549.000000   280.0     no\n",
            "7    M   blue  female   59.000000   310.0     no\n"
          ],
          "name": "stdout"
        }
      ]
    },
    {
      "cell_type": "code",
      "metadata": {
        "id": "_zAV7FGdJhpf",
        "outputId": "e120e391-8cde-40e1-908e-f5b89fa22d5b",
        "colab": {
          "base_uri": "https://localhost:8080/"
        }
      },
      "source": [
        "#\twypełnij puste miejsca w kolumnie size, color i gender wartościami stałymi (np. unisex, black, male)\n",
        "df['size'].fillna('L', inplace=True)\n",
        "df['color'].fillna('black', inplace=True)\n",
        "df['gender'].fillna('male', inplace=True)\n",
        "print(df)\n"
      ],
      "execution_count": 19,
      "outputs": [
        {
          "output_type": "stream",
          "text": [
            "  size  color  gender       price  weight bought\n",
            "0    L  green    male  151.857143     NaN    yes\n",
            "1    S    red  np.nan   59.000000   310.0    yes\n",
            "2    L   blue    male   19.000000   510.0    NaN\n",
            "3   XS  black  female   89.000000   710.0    yes\n",
            "4    L  green    male  249.000000   680.0     no\n",
            "5    S  black    male   39.000000   480.0    NaN\n",
            "6  XLL  green  female  549.000000   280.0     no\n",
            "7    M   blue  female   59.000000   310.0     no\n"
          ],
          "name": "stdout"
        }
      ]
    },
    {
      "cell_type": "code",
      "metadata": {
        "id": "16rqxIpMJ1gY",
        "outputId": "534c2730-04a7-4adb-85d9-94071ea19cb8",
        "colab": {
          "base_uri": "https://localhost:8080/"
        }
      },
      "source": [
        "#\tdodaj do słownika kolumnę cost, która reprezentuje cenę jako jedną z klas: \n",
        "#cheap, normal_price, expensive; podziału ceny na te klasy dokonaj automatycznie (argument bins metody pandas.cut)\n",
        "df['cost'] = pd.cut(df['price'], bins=3, labels=('tanio', 'średnio', 'drogo'))\n",
        "print(df)\n"
      ],
      "execution_count": 22,
      "outputs": [
        {
          "output_type": "stream",
          "text": [
            "  size  color  gender       price  weight bought     cost\n",
            "0    L  green    male  151.857143     NaN    yes    tanio\n",
            "1    S    red  np.nan   59.000000   310.0    yes    tanio\n",
            "2    L   blue    male   19.000000   510.0    NaN    tanio\n",
            "3   XS  black  female   89.000000   710.0    yes    tanio\n",
            "4    L  green    male  249.000000   680.0     no  średnio\n",
            "5    S  black    male   39.000000   480.0    NaN    tanio\n",
            "6  XLL  green  female  549.000000   280.0     no    drogo\n",
            "7    M   blue  female   59.000000   310.0     no    tanio\n"
          ],
          "name": "stdout"
        }
      ]
    },
    {
      "cell_type": "code",
      "metadata": {
        "id": "cefehShkKbJO",
        "outputId": "c90ba876-5bc9-4827-c35d-7fa5145df34f",
        "colab": {
          "base_uri": "https://localhost:8080/"
        }
      },
      "source": [
        "#\tdostosuj dane do modelu tak, by przedstawiały wartość binarną (np. bought: [‘yes’, ‘no’, ‘yes’] na bought_yes: [1,0,1])\n",
        "#pandas wywalal blad \n",
        "df['bought_yes'] = df['bought'].apply(lambda x: 1 if 'yes'== x else 0) \n",
        "print(df)"
      ],
      "execution_count": 38,
      "outputs": [
        {
          "output_type": "stream",
          "text": [
            "  size  color  gender  price  weight bought  bought_yes\n",
            "0    L  green     NaN    NaN     NaN    yes           1\n",
            "1    S    red  np.nan   59.0   310.0    yes           1\n",
            "2  NaN   blue     NaN   19.0     NaN    NaN           0\n",
            "3   XS  black  female   89.0   710.0    yes           1\n",
            "4    L  green    male  249.0   680.0     no           0\n",
            "5    S    NaN    male   39.0     NaN    NaN           0\n",
            "6  XLL  green  female  549.0   280.0     no           0\n",
            "7    M   blue  female   59.0   310.0     no           0\n"
          ],
          "name": "stdout"
        }
      ]
    },
    {
      "cell_type": "code",
      "metadata": {
        "id": "QzXDgFGzMnS1"
      },
      "source": [
        ""
      ],
      "execution_count": null,
      "outputs": []
    },
    {
      "cell_type": "code",
      "metadata": {
        "id": "1RoEoSU2MeRY"
      },
      "source": [
        ""
      ],
      "execution_count": null,
      "outputs": []
    }
  ]
}