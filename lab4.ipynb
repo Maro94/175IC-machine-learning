{
  "nbformat": 4,
  "nbformat_minor": 0,
  "metadata": {
    "colab": {
      "name": "lab4",
      "provenance": [],
      "authorship_tag": "ABX9TyMEmiqCU+a+5E8NXty6ghZl",
      "include_colab_link": true
    },
    "kernelspec": {
      "name": "python3",
      "display_name": "Python 3"
    }
  },
  "cells": [
    {
      "cell_type": "markdown",
      "metadata": {
        "id": "view-in-github",
        "colab_type": "text"
      },
      "source": [
        "<a href=\"https://colab.research.google.com/github/Maro94/175IC-machine-learning/blob/main/lab4.ipynb\" target=\"_parent\"><img src=\"https://colab.research.google.com/assets/colab-badge.svg\" alt=\"Open In Colab\"/></a>"
      ]
    },
    {
      "cell_type": "code",
      "metadata": {
        "colab": {
          "base_uri": "https://localhost:8080/"
        },
        "id": "bOIYgUBpl_-2",
        "outputId": "ae6d0751-b929-4dd8-c570-7ee438d77eb6"
      },
      "source": [
        "import numpy as np\r\n",
        "import pandas as pd\r\n",
        "import matplotlib.pyplot as plt\r\n",
        "import seaborn as sns\r\n",
        "import math\r\n",
        "from sklearn.datasets import load_iris\r\n",
        "from sklearn.tree import DecisionTreeClassifier\r\n",
        "from mlxtend.plotting import plot_decision_regions\r\n",
        "from sklearn.tree import export_graphviz\r\n",
        "from sklearn.externals.six import StringIO\r\n",
        "import pydotplus\r\n",
        "from IPython.display import Image\r\n",
        "sns.set()\r\n",
        " \r\n",
        "raw_data = load_iris()\r\n",
        "all_data = raw_data.copy()\r\n",
        " \r\n",
        "data = all_data['data']\r\n",
        "target = all_data['target']\r\n",
        "feature_names = all_data['feature_names']\r\n",
        "target_names = all_data['target_names']\r\n",
        " \r\n",
        "print(f'Liczba probek: {len(data)}')\r\n",
        "print(f'Ksztalt danych: {data.shape}')\r\n",
        "print(f'Nazwy zmiennych: {feature_names}')\r\n",
        "print(f'Nazwy klas: {target_names}')\r\n",
        " \r\n",
        "data = pd.DataFrame(data=data, columns=feature_names)\r\n",
        "target = pd.DataFrame(data=target, columns=['target'])\r\n",
        " \r\n",
        "data.pop('petal width (cm)')\r\n",
        "data.pop('petal length (cm)')\r\n",
        " \r\n",
        "# plt.scatter(data['sepal length (cm)'][:50], data['sepal width (cm)'][:50], c='Blue', marker='X')\r\n",
        "# plt.scatter(data['sepal length (cm)'][51:100], data['sepal width (cm)'][51:100], c='Red', marker='o')\r\n",
        "# plt.scatter(data['sepal length (cm)'][101:], data['sepal width (cm)'][101:], c='Green', marker='*')\r\n",
        " \r\n",
        "# dpth = 15\r\n",
        "# classifier = DecisionTreeClassifier(max_depth=dpth)\r\n",
        "# classifier.fit(data,target)\r\n",
        " \r\n",
        "# acc =classifier.score(data,target)\r\n",
        "# plt.figure(figsize=(10,7))\r\n",
        "# plot_decision_regions(np.array(data), np.array(target).reshape(150), classifier)\r\n",
        "# plt.title(f'Max_depth = {dpth}, accuracy = {acc:.2}')\r\n",
        "# plt.show()\r\n",
        " \r\n",
        " \r\n",
        "#################################################################################\r\n",
        " \r\n",
        "# dot_data = StringIO()\r\n",
        "# export_graphviz(classifier, out_file=dot_data, feature_names=feature_names[:2], class_names=target_names, filled=True)\r\n",
        "# graph = pydotplus.graph_from_dot_data(dot_data.getvalue())\r\n",
        "# Image(graph.create_png())\r\n",
        " \r\n",
        " \r\n",
        "#################################################################################\r\n",
        " \r\n",
        "def make_decision_tree(max_depth = 1):\r\n",
        "    classifier = DecisionTreeClassifier(max_depth=max_depth)\r\n",
        "    classifier.fit(data,target)\r\n",
        " \r\n",
        "    dot_data = StringIO()\r\n",
        "    export_graphviz(classifier, out_file=dot_data, feature_names=feature_names[:2], class_names=target_names, filled=True)\r\n",
        "    graph = pydotplus.graph_from_dot_data(dot_data.getvalue())\r\n",
        " \r\n",
        "    acc =classifier.score(data,target)\r\n",
        "    \r\n",
        "    plt.figure(figsize=(10,7))\r\n",
        "    plot_decision_regions(np.array(data), np.array(target).reshape(150), classifier)\r\n",
        "    plt.title(f'Max_depth = {dpth}, accuracy = {acc:.2}')\r\n",
        "    plt.show()\r\n",
        " \r\n",
        "    return Image(graph.create_png())"
      ],
      "execution_count": 2,
      "outputs": [
        {
          "output_type": "stream",
          "text": [
            "Liczba probek: 150\n",
            "Ksztalt danych: (150, 4)\n",
            "Nazwy zmiennych: ['sepal length (cm)', 'sepal width (cm)', 'petal length (cm)', 'petal width (cm)']\n",
            "Nazwy klas: ['setosa' 'versicolor' 'virginica']\n"
          ],
          "name": "stdout"
        }
      ]
    }
  ]
}