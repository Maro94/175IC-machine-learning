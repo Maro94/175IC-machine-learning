{
  "nbformat": 4,
  "nbformat_minor": 0,
  "metadata": {
    "colab": {
      "name": "lab3",
      "provenance": [],
      "authorship_tag": "ABX9TyPVJSsySz3yj/Pv3IUfYjM1",
      "include_colab_link": true
    },
    "kernelspec": {
      "name": "python3",
      "display_name": "Python 3"
    }
  },
  "cells": [
    {
      "cell_type": "markdown",
      "metadata": {
        "id": "view-in-github",
        "colab_type": "text"
      },
      "source": [
        "<a href=\"https://colab.research.google.com/github/Maro94/175IC-machine-learning/blob/main/lab3.ipynb\" target=\"_parent\"><img src=\"https://colab.research.google.com/assets/colab-badge.svg\" alt=\"Open In Colab\"/></a>"
      ]
    },
    {
      "cell_type": "code",
      "metadata": {
        "id": "8bSPg1ds0A45"
      },
      "source": [
        "#lab 3 wykonam do srody do godziny 23.59 "
      ],
      "execution_count": null,
      "outputs": []
    }
  ]
}